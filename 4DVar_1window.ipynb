{
 "cells": [
  {
   "cell_type": "code",
   "execution_count": 1,
   "metadata": {},
   "outputs": [],
   "source": [
    "%matplotlib inline\n",
    "import numpy as np\n",
    "import matplotlib.pyplot as plt"
   ]
  },
  {
   "cell_type": "code",
   "execution_count": 2,
   "metadata": {},
   "outputs": [],
   "source": [
    "def gen_random_obserr(mean, var, size, obs_intv, random_state=None):\n",
    "    \"\"\"\n",
    "    Generate random gaussian observation error.\n",
    "    \n",
    "    Parameters:\n",
    "    ----------\n",
    "    mean, var: scaler.\n",
    "        Mean and variance for gaussian distribution.\n",
    "    size: int.\n",
    "        The size of output array.\n",
    "    obs_intv: int.\n",
    "        The observation interval length in the output array.\n",
    "    random_state: int.\n",
    "        Random state. Default is None and it will use np.random.randint.\n",
    "        \n",
    "    Return:\n",
    "    ------\n",
    "    obs_err: 1-d array.\n",
    "        The array which observation error occurs every `obs_intv` and others are 0.\n",
    "        \n",
    "    EX:\n",
    "    >>> gen_random_obserr(0, 1, 12, 4)\n",
    "    array([-0.34889445,  0,  0,  0,  0.98370343,  0,  0,  0,\n",
    "           0.58092283,  0,  0,  0])\n",
    "    \"\"\"\n",
    "    if random_state is None:\n",
    "        random_state = np.random.randint(0, 50)\n",
    "    \n",
    "    length = np.ceil(size/obs_intv) * obs_intv\n",
    "    obs_err = np.zeros(int(length)).reshape((-1,obs_intv))\n",
    "    \n",
    "    rng = np.random.RandomState(random_state)\n",
    "    obs_err[:,0] = rng.normal(mean, np.sqrt(var), size=obs_err.shape[0])\n",
    "    obs_err = obs_err.ravel()[:size]\n",
    "    return obs_err\n",
    "\n",
    "\n",
    "def lorenz63_fdm(x0, ts, sigma=None, r=None, b=None):\n",
    "    \"\"\"Solve lorenz63 with finit difference method\"\"\"  \n",
    "    if sigma is None:\n",
    "        sigma = 10\n",
    "    if r is None:\n",
    "        r = 28\n",
    "    if b is None:\n",
    "        b = 8/3\n",
    "    \n",
    "    size = ts.size\n",
    "    dt = ts[1] - ts[0]\n",
    "    \n",
    "    x = np.zeros((size,))\n",
    "    y = np.zeros((size,))\n",
    "    z = np.zeros((size,))\n",
    "    x[0] = x0[0]\n",
    "    y[0] = x0[1]\n",
    "    z[0] = x0[2]\n",
    "    \n",
    "    for i in range(1, size):\n",
    "        x[i] = x[i-1] + sigma * (y[i-1] - x[i-1]) * dt\n",
    "        y[i] = y[i-1] + (r*x[i-1] - y[i-1] - x[i-1]*z[i-1]) * dt\n",
    "        z[i] = z[i-1] + (x[i-1]*y[i-1] - b*z[i-1]) * dt\n",
    "    \n",
    "    return np.vstack((x, y, z))\n",
    "\n",
    "\n",
    "def M(xi, yi, zi, dt, sigma=None, r=None, b=None):\n",
    "    \"\"\"tangent linear model for lorenz63_fdm\"\"\"\n",
    "    if sigma is None:\n",
    "        sigma = 10\n",
    "    if r is None:\n",
    "        r = 28\n",
    "    if b is None:\n",
    "        b = 8/3\n",
    "    \n",
    "    M = np.array([\n",
    "        [1-sigma*dt, sigma*dt, 0],\n",
    "        [r*dt-zi*dt, 1-dt, -xi*dt],\n",
    "        [yi*dt, xi*dt, 1-b*dt]\n",
    "    ])\n",
    "    return M\n",
    "\n",
    "\n",
    "def stability_index_lorenz63(x, y, z, sigma=None, r=None, b=None):\n",
    "    if sigma is None:\n",
    "        sigma = 10\n",
    "    if r is None:\n",
    "        r = 28\n",
    "    if b is None:\n",
    "        b = 8/3\n",
    "        \n",
    "    M = np.array([\n",
    "        [-sigma, sigma, 0],\n",
    "        [r-z, -1, -x],\n",
    "        [y, x, -b]\n",
    "    ])\n",
    "    \n",
    "    eigv, P = np.linalg.eig(M)\n",
    "    r = eigv.real\n",
    "    if np.all(r<0):\n",
    "        # stable case\n",
    "        return r.sum()\n",
    "    else:\n",
    "        # unstable case\n",
    "        r[r<0] = 0\n",
    "        return r.sum()"
   ]
  },
  {
   "cell_type": "code",
   "execution_count": 3,
   "metadata": {},
   "outputs": [
    {
     "data": {
      "text/plain": [
       "(3, 8)"
      ]
     },
     "execution_count": 3,
     "metadata": {},
     "output_type": "execute_result"
    }
   ],
   "source": [
    "X_ini = np.array([[8, 0, 30]]).T\n",
    "dt = 0.01\n",
    "time = 0.08\n",
    "ts = np.arange(0, time, dt)\n",
    "\n",
    "X_nature = lorenz63_fdm(X_ini.ravel(), ts)\n",
    "X_nature.shape"
   ]
  },
  {
   "cell_type": "code",
   "execution_count": 4,
   "metadata": {},
   "outputs": [],
   "source": [
    "X_perturb = np.array([[4, 5, 10]]).T\n",
    "X_forecast = lorenz63_fdm(X_perturb.ravel(), ts)"
   ]
  },
  {
   "cell_type": "code",
   "execution_count": 5,
   "metadata": {},
   "outputs": [],
   "source": [
    "obs = X_nature + np.random.randn(3, 8)"
   ]
  },
  {
   "cell_type": "code",
   "execution_count": 6,
   "metadata": {},
   "outputs": [
    {
     "data": {
      "image/png": "[encoded data removed]",
      "text/plain": [
       "<Figure size 720x360 with 3 Axes>"
      ]
     },
     "metadata": {
      "needs_background": "light"
     },
     "output_type": "display_data"
    }
   ],
   "source": [
    "fig, axs = plt.subplots(nrows=3, figsize=(10, 5))\n",
    "for i in range(3):\n",
    "    axs[i].plot(X_nature[i,:], 'k')\n",
    "    axs[i].plot(X_forecast[i,:], 'r')\n",
    "    axs[i].plot(obs[i,:], 'k.')"
   ]
  },
  {
   "cell_type": "code",
   "execution_count": 7,
   "metadata": {},
   "outputs": [],
   "source": [
    "def _4dvar_costfunction(x, xb, xtrac, yo, Pb, R, H_func=None):\n",
    "    \"\"\"\n",
    "    x, xb: (ndim, 1)\n",
    "    x_trac: (ndim, window)\n",
    "    Pb: (ndim, ndim)\n",
    "    yo: (N, window)\n",
    "    R: (window, N, N)\n",
    "    model, H_func: (window,)\n",
    "    \"\"\"\n",
    "    assim_window_len = yo.shape[1]\n",
    "    \n",
    "    if H_func is None:\n",
    "        H_func = [lambda arr: arr for _ in range(assim_window_len)]\n",
    "        \n",
    "    part1 = (xb-x).T @ np.linalg.inv(Pb) @ (xb-x)\n",
    "    part2 = np.zeros_like(part1)\n",
    "    for j in range(assim_window_len):\n",
    "        yj = yo[:,[j]]\n",
    "        Rj = R[j,:,:]\n",
    "        H_j = H_func[j]\n",
    "        xtracj = xtrac[:,[j]]\n",
    "        part2 += (yj-H_j(xtracj)).T @ np.linalg.inv(Rj) @ (yj-H_j(xtracj))\n",
    "    return 0.5 * (part1 + part2)\n",
    "\n",
    "def _gradient_4dvar_costfunction(x, xb, xtrac, yo, Pb, R, M, H_func=None, H=None):\n",
    "    \"\"\"\n",
    "    x, xb: (ndim, 1)\n",
    "    xtrac: (ndim, window)\n",
    "    Pb: (ndim, ndim)\n",
    "    yo: (N, window)\n",
    "    R: (window, N, N)\n",
    "    H_func: (window,)\n",
    "    M: (window, ndim, ndim)\n",
    "    H: (window, N, ndim)\n",
    "    \"\"\"\n",
    "    No, assim_window_len = yo.shape\n",
    "    \n",
    "    if H_func is None:\n",
    "        H_func = [lambda arr: arr for _ in range(assim_window_len)]\n",
    "        H = np.concatenate([np.eye(No)[np.newaxis] for i in range(assim_window_len)])\n",
    "        \n",
    "    part1 = np.linalg.inv(Pb) @ (x-xb)\n",
    "    part2 = np.zeros_like(part1)\n",
    "    for j in range(assim_window_len):\n",
    "        yj = yo[:,[j]]\n",
    "        Mj = M[j,:,:]\n",
    "        Hj = H[j,:,:]\n",
    "        Rj = R[j,:,:]\n",
    "        H_fj = H_func[j]\n",
    "        xtracj = xtrac[:,[j]]\n",
    "        part2 += Mj.T @ Hj.T @ np.linalg.inv(Rj) @ (yj - H_fj(xtracj))\n",
    "    return part1 - part2"
   ]
  },
  {
   "cell_type": "code",
   "execution_count": 35,
   "metadata": {},
   "outputs": [
    {
     "data": {
      "text/plain": [
       "array([[ 4],\n",
       "       [ 5],\n",
       "       [10]])"
      ]
     },
     "execution_count": 35,
     "metadata": {},
     "output_type": "execute_result"
    }
   ],
   "source": [
    "xb = X_perturb\n",
    "xb"
   ]
  },
  {
   "cell_type": "code",
   "execution_count": 36,
   "metadata": {},
   "outputs": [],
   "source": [
    "ts = np.arange(0, time, dt)\n",
    "xb_forecast = lorenz63_fdm(xb.ravel(), ts)\n",
    "\n",
    "Ms = []\n",
    "m = np.eye(3)\n",
    "for i in range(obs.shape[1]):\n",
    "    m = M(xb_forecast[0,i], xb_forecast[1,i], xb_forecast[2,i], dt) @ m\n",
    "    Ms.append(m)\n",
    "Ms = np.stack(Ms)"
   ]
  },
  {
   "cell_type": "code",
   "execution_count": 37,
   "metadata": {},
   "outputs": [
    {
     "data": {
      "text/plain": [
       "array([[  40.58014598],\n",
       "       [ -11.47078086],\n",
       "       [-117.17460776]])"
      ]
     },
     "execution_count": 37,
     "metadata": {},
     "output_type": "execute_result"
    }
   ],
   "source": [
    "Pb = np.array([\n",
    "    [ 95.92487549, 108.82721654,  13.52170192],\n",
    "    [108.82721654, 135.97355097,  18.39642468],\n",
    "    [ 13.52170192,  18.39642468,  64.98710037]\n",
    "])\n",
    "Pb *= 0.02\n",
    "R = np.eye(3) * 1\n",
    "R = np.concatenate([1*np.eye(3)[np.newaxis,:,:] for i in range(8)])\n",
    "\n",
    "_4dvar_costfunction(np.array([[8, 0, 30]]).T, xb, xb_forecast, obs, Pb, R)\n",
    "_gradient_4dvar_costfunction(np.array([[8, 0, 30]]).T, xb, xb_forecast, obs, Pb, R, Ms)"
   ]
  },
  {
   "cell_type": "code",
   "execution_count": 11,
   "metadata": {},
   "outputs": [
    {
     "name": "stdout",
     "output_type": "stream",
     "text": [
      "138.3232974731973\n",
      "127.42908270540045\n",
      "117.45480380550354\n",
      "108.31303397003617\n",
      "99.92606898290268\n",
      "92.22466428615854\n",
      "85.14695805667823\n",
      "78.63754921019415\n",
      "72.64670560318292\n",
      "67.1296823157207\n",
      "62.04613338879286\n",
      "57.359603123201026\n",
      "53.03708524705868\n",
      "49.04864006499476\n",
      "45.36706120595153\n",
      "41.96758485010833\n",
      "38.82763538341467\n",
      "35.926602333693914\n",
      "33.245644211187425\n",
      "30.767515529630522\n",
      "28.476413838770284\n",
      "26.357844070190268\n",
      "24.39849789777904\n",
      "22.58614615275926\n",
      "20.909542619974047\n",
      "19.358337784915218\n",
      "17.923001306463146\n",
      "16.594752164220193\n",
      "15.365495576546694\n",
      "14.227765910114057\n",
      "13.174674907505434\n",
      "12.199864649119018\n",
      "11.297464741884948\n",
      "10.462053292234707\n",
      "9.688621276149\n",
      "8.97253996647086\n",
      "8.309531118266042\n",
      "7.695639647906963\n",
      "7.127208571635411\n",
      "6.600855995368847\n",
      "6.11345397007853\n",
      "5.662109046703852\n",
      "5.244144381716978\n",
      "4.857083259478646\n",
      "4.498633910737159\n",
      "4.166675518278887\n",
      "3.8592453110540044\n",
      "3.574526657261649\n",
      "3.3108380750372994\n",
      "3.066623086674008\n",
      "2.8404408488382633\n",
      "2.630957497107677\n",
      "2.436938148438646\n",
      "2.257239509941281\n",
      "2.090803046651719\n",
      "1.936648664902628\n",
      "1.793868871443546\n",
      "1.6616233716952833\n",
      "1.5391340734652477\n",
      "1.4256804651395671\n",
      "1.3205953398219517\n",
      "1.2232608391375757\n",
      "1.133104792477184\n",
      "1.0495973293438927\n",
      "0.9722477441972506\n",
      "0.9006015947799249\n",
      "0.8342380163734119\n",
      "0.7727672357756571\n",
      "0.7158282700301695\n",
      "0.6630867960766763\n",
      "0.6142331785439493\n",
      "0.5689806438729647\n",
      "0.5270635898522337\n",
      "0.48823602047062276\n",
      "0.45227009675297114\n",
      "0.4189547949459863\n",
      "0.38809466406969306\n",
      "0.3595086754483704\n",
      "0.3330291573879723\n",
      "0.3085008086779756\n",
      "0.2857797850676368\n",
      "0.264732853303736\n",
      "0.24523660772018102\n",
      "0.2271767447429726\n",
      "0.21044739101956056\n",
      "0.19495048120067326\n",
      "0.1805951816977942\n",
      "0.16729735701321471\n",
      "0.1549790754918896\n",
      "0.14356815157841568\n",
      "0.13299772187826384\n",
      "0.12320585252440198\n",
      "0.11413517553310001\n",
      "0.10573255200705878\n",
      "0.09794876020058219\n",
      "0.09073820660965953\n",
      "0.08405865838586137\n",
      "0.07787099549821568\n",
      "0.07213898118419379\n",
      "0.06682904933935506\n",
      "0.06191010759422646\n",
      "0.05735335492018573\n",
      "0.05313211269111018\n",
      "0.04922166820827999\n",
      "0.04559912976718026\n",
      "0.04224329241529343\n",
      "0.03913451361097421\n",
      "0.03625459805320664\n",
      "0.03358669100495285\n",
      "0.031115179483579766\n",
      "0.028825600737900782\n",
      "0.026704557473939364\n",
      "0.024739639331457206\n",
      "0.02291935015073144\n",
      "0.021233040601217355\n",
      "0.01967084577788983\n",
      "0.018223627397842345\n",
      "0.016882920258312135\n",
      "0.01564088264156748\n",
      "0.014490250375967781\n",
      "0.013424294282750198\n",
      "0.012436780760055556\n",
      "0.011521935271593002\n",
      "0.010674408526572737\n",
      "0.009889245152255678\n",
      "0.009161854675200235\n",
      "0.00848798464108616\n",
      "0.007863695715465496\n",
      "0.007285338619402334\n",
      "0.0067495327645547085\n",
      "0.006253146462649441\n",
      "0.005793278593337698\n",
      "0.005367241622398184\n",
      "0.004972545871584052\n",
      "0.004606884947171984\n",
      "0.004268122241898942\n",
      "0.003954278431816656\n",
      "0.0036635198937818017\n",
      "0.0033941479763646702\n",
      "0.0031445890611899053\n",
      "0.0029133853562365447\n",
      "0.002699186367440697\n",
      "0.0025007409984372573\n",
      "0.0023168902321609505\n",
      "0.0021465603515913936\n",
      "0.0019887566595689896\n",
      "0.0018425576615586638\n",
      "0.0017071096763028532\n",
      "0.0015816218437793845\n",
      "0.0014653615006817054\n",
      "0.0013576498963949596\n",
      "0.0012578582244284768\n",
      "0.0011654039462058704\n",
      "0.0010797473853438292\n",
      "0.001000388573030956\n",
      "0.0009268643252940906\n",
      "155 [[ 4.16040522]\n",
      " [ 2.70063964]\n",
      " [28.00141712]]\n"
     ]
    }
   ],
   "source": [
    "x = xb.copy()\n",
    "for _ in range(1000):\n",
    "    ts = np.arange(0, time, dt)\n",
    "    xb_forecast = lorenz63_fdm(x.ravel(), ts)\n",
    "\n",
    "    Ms = []\n",
    "    m = np.eye(3)\n",
    "    for i in range(obs.shape[1]):\n",
    "        m = M(xb_forecast[0,i], xb_forecast[1,i], xb_forecast[2,i], dt) @ m\n",
    "        Ms.append(m)\n",
    "    Ms = np.stack(Ms)\n",
    "\n",
    "    r = 0.01\n",
    "    gradient = _gradient_4dvar_costfunction(x, xb, xb_forecast, obs, Pb, R, Ms)\n",
    "    x_new = x - r * gradient\n",
    "\n",
    "    #if np.abs((x_new-x)/x) <= 0.0001:\n",
    "    print(np.linalg.norm(gradient))\n",
    "    if np.linalg.norm(gradient) <= 0.001:\n",
    "        break\n",
    "    else:\n",
    "        x = x_new\n",
    "\n",
    "print(_, x_new)"
   ]
  },
  {
   "cell_type": "code",
   "execution_count": 16,
   "metadata": {},
   "outputs": [
    {
     "data": {
      "text/plain": [
       "<matplotlib.legend.Legend at 0x1ef08c8e688>"
      ]
     },
     "execution_count": 16,
     "metadata": {},
     "output_type": "execute_result"
    },
    {
     "data": {
      "image/png": "[encoded data removed]",
      "text/plain": [
       "<Figure size 720x360 with 3 Axes>"
      ]
     },
     "metadata": {
      "needs_background": "light"
     },
     "output_type": "display_data"
    }
   ],
   "source": [
    "aa = lorenz63_fdm(x_new.ravel(), ts)\n",
    "\n",
    "fig, axs = plt.subplots(nrows=3, figsize=(10, 5))\n",
    "for i in range(3):\n",
    "    axs[i].plot(X_nature[i,:], 'k', label='nature')\n",
    "    axs[i].plot(obs[i,:], 'k.')\n",
    "    axs[i].plot(X_forecast[i,:], 'r', alpha=0.5, label='background')\n",
    "    axs[i].plot(aa[i,:], 'r', label='analysis')\n",
    "plt.legend()"
   ]
  },
  {
   "cell_type": "code",
   "execution_count": 33,
   "metadata": {},
   "outputs": [],
   "source": [
    "from assimilation import ExtendedKF\n",
    "\n",
    "ekf = ExtendedKF(lorenz63_fdm, dt/2)\n",
    "ekf.list_params()\n",
    "params = {\n",
    "    'X_ini': X_perturb,\n",
    "    'obs': obs,\n",
    "    'obs_interv': 2,\n",
    "    'Pb': Pb,\n",
    "    'R': R[0],\n",
    "    'H_func': lambda arr: arr,\n",
    "    'H': np.eye(3),\n",
    "    'M': lambda xi, yi, zi: M(xi, yi, zi, dt),\n",
    "    'alpha': 0.3,\n",
    "    'inflat': 1.5\n",
    "}\n",
    "ekf.set_params(**params)\n",
    "ekf.cycle()"
   ]
  },
  {
   "cell_type": "code",
   "execution_count": 34,
   "metadata": {},
   "outputs": [
    {
     "data": {
      "text/plain": [
       "<matplotlib.legend.Legend at 0x1ef0ad6ef88>"
      ]
     },
     "execution_count": 34,
     "metadata": {},
     "output_type": "execute_result"
    },
    {
     "data": {
      "image/png": "[encoded data removed]",
      "text/plain": [
       "<Figure size 720x360 with 3 Axes>"
      ]
     },
     "metadata": {
      "needs_background": "light"
     },
     "output_type": "display_data"
    }
   ],
   "source": [
    "ekf.analysis\n",
    "\n",
    "fig, axs = plt.subplots(nrows=3, figsize=(10, 5))\n",
    "for i in range(3):\n",
    "    axs[i].plot(X_nature[i,:], 'k', label='nature')\n",
    "    axs[i].plot(obs[i,:], 'k.')\n",
    "    axs[i].plot(ekf.background[i,::2], 'r', alpha=0.5, label='background')\n",
    "    axs[i].plot(ekf.analysis[i,::2], 'r', label='analysis')\n",
    "plt.legend()"
   ]
  },
  {
   "cell_type": "code",
   "execution_count": null,
   "metadata": {},
   "outputs": [],
   "source": []
  },
  {
   "cell_type": "code",
   "execution_count": null,
   "metadata": {},
   "outputs": [],
   "source": []
  },
  {
   "cell_type": "code",
   "execution_count": null,
   "metadata": {},
   "outputs": [],
   "source": []
  },
  {
   "cell_type": "code",
   "execution_count": null,
   "metadata": {},
   "outputs": [],
   "source": []
  },
  {
   "cell_type": "code",
   "execution_count": null,
   "metadata": {},
   "outputs": [],
   "source": []
  },
  {
   "cell_type": "code",
   "execution_count": 163,
   "metadata": {},
   "outputs": [
    {
     "data": {
      "text/plain": [
       "2.0001681830658393"
      ]
     },
     "execution_count": 163,
     "metadata": {},
     "output_type": "execute_result"
    }
   ],
   "source": [
    "def f(x):\n",
    "    return 5*(x-2)**2\n",
    "\n",
    "def df(x):\n",
    "    return 10*(x-2)\n",
    "    \n",
    "def gradient_descent(x0, func, dfunc, r=0.01, maxiter=100000):\n",
    "    x = x0\n",
    "    for _ in range(maxiter):\n",
    "        x_new = x - r * df(x)\n",
    "        if np.abs((x_new-x)/x) <= 0.00001:\n",
    "            return x_new, True\n",
    "        else:\n",
    "            x = x_new\n",
    "    return x_new, False\n",
    "\n",
    "gradient_descent(100, 0.01)"
   ]
  },
  {
   "cell_type": "code",
   "execution_count": null,
   "metadata": {},
   "outputs": [],
   "source": []
  },
  {
   "cell_type": "code",
   "execution_count": null,
   "metadata": {},
   "outputs": [],
   "source": []
  },
  {
   "cell_type": "code",
   "execution_count": null,
   "metadata": {},
   "outputs": [],
   "source": []
  },
  {
   "cell_type": "code",
   "execution_count": null,
   "metadata": {},
   "outputs": [],
   "source": []
  },
  {
   "cell_type": "code",
   "execution_count": null,
   "metadata": {},
   "outputs": [],
   "source": []
  },
  {
   "cell_type": "code",
   "execution_count": null,
   "metadata": {},
   "outputs": [],
   "source": []
  },
  {
   "cell_type": "code",
   "execution_count": null,
   "metadata": {},
   "outputs": [],
   "source": []
  },
  {
   "cell_type": "code",
   "execution_count": null,
   "metadata": {},
   "outputs": [],
   "source": []
  },
  {
   "cell_type": "code",
   "execution_count": 27,
   "metadata": {},
   "outputs": [],
   "source": [
    "def _4dvar_costfunction(x, xb, yo, Pb, R, model, H_func=None):\n",
    "    \"\"\"\n",
    "    x, xb: (ndim, 1)\n",
    "    Pb: (ndim, ndim)\n",
    "    yo: (N, window)\n",
    "    R: (window, N, N)\n",
    "    model, H_func: (window,)\n",
    "    \"\"\"\n",
    "    assim_window_len = yo.shape[1]\n",
    "    \n",
    "    if H_func is None:\n",
    "        H_func = [lambda arr: arr for _ in range(assim_window_len)]\n",
    "        \n",
    "    part1 =(xb-x).T @ np.linalg.inv(Pb) @ (xb-x)\n",
    "    part2 = np.zeros_like(part1)\n",
    "    for j in range(assim_window_len):\n",
    "        yj = yo[:,[j]]\n",
    "        Rj = R[j,:,:]\n",
    "        H_j = H_func[j]\n",
    "        m_j = model[j]\n",
    "        part2 += (yj-H_j(m_j(x))).T @ np.linalg.inv(Rj) @ (yj-H_j(m_j(x)))\n",
    "    return 0.5 * (part1 + part2)\n",
    "\n",
    "def _gradient_4dvar_costfunction(x, xb, yo, Pb, R, M, H_func=None, H=None):\n",
    "    \"\"\"\n",
    "    x, xb: (ndim, 1)\n",
    "    Pb: (ndim, ndim)\n",
    "    yo: (N, window)\n",
    "    R: (window, N, N)\n",
    "    model, H_func: (window,)\n",
    "    M: (window, ndim, ndim)\n",
    "    H: (window, N, ndim)\n",
    "    \"\"\"\n",
    "    No, assim_window_len = yo.shape\n",
    "    \n",
    "    if H_func is None:\n",
    "        H_func = [lambda arr: arr for _ in range(assim_window_len)]\n",
    "        H = np.concatenate([np.eye(No)[np.newaxis] for i in range(assim_window_len)])\n",
    "        \n",
    "    part1 = np.linalg.inv(Pb) @ (x-xb)\n",
    "    part2 = np.zeros_like(part1)\n",
    "    for j in range(assim_window_len):\n",
    "        yj = yo[:,[j]]\n",
    "        Mj = M[j,:,:]\n",
    "        Hj = H[j,:,:]\n",
    "        Rj = R[j,:,:]\n",
    "        H_fj = H_func[j]\n",
    "        m_j = model[j]\n",
    "        part2 += Mj.T @ Hj.T @ np.linalg.inv(Rj) @ (yj - H_fj(m_j(x)))\n",
    "    return part1 - part2"
   ]
  },
  {
   "cell_type": "code",
   "execution_count": 33,
   "metadata": {},
   "outputs": [
    {
     "data": {
      "text/plain": [
       "array([[ 4],\n",
       "       [ 5],\n",
       "       [10]])"
      ]
     },
     "execution_count": 33,
     "metadata": {},
     "output_type": "execute_result"
    }
   ],
   "source": [
    "xb = X_perturb\n",
    "xb"
   ]
  },
  {
   "cell_type": "code",
   "execution_count": 88,
   "metadata": {},
   "outputs": [
    {
     "data": {
      "text/plain": [
       "array([[ 5.78764962],\n",
       "       [10.25406457],\n",
       "       [10.45802341]])"
      ]
     },
     "execution_count": 88,
     "metadata": {},
     "output_type": "execute_result"
    }
   ],
   "source": [
    "ts = np.arange(0, time, dt)\n",
    "xb_forecast = lorenz63_fdm(xb.ravel(), ts)\n",
    "\n",
    "model = [lambda x: x]\n",
    "model += [lambda x: lorenz63_fdm(x.ravel(), np.arange(0, t+dt, dt))[:,[-1]] for t in ts[1:]]\n",
    "\n",
    "model = []\n",
    "for i in range(ts.size):\n",
    "    if i == 0:\n",
    "        model.append(lambda x: x)\n",
    "    else:\n",
    "        t = np.arange(0, ts[i]+dt, dt)\n",
    "        model.append(lambda x: lorenz63_fdm(x.ravel(), t)[:,[-1]])\n",
    "\n",
    "model[4](xb)"
   ]
  },
  {
   "cell_type": "code",
   "execution_count": 63,
   "metadata": {},
   "outputs": [
    {
     "data": {
      "text/plain": [
       "[array([0.  , 0.01]),\n",
       " array([0.  , 0.01, 0.02]),\n",
       " array([0.  , 0.01, 0.02, 0.03]),\n",
       " array([0.  , 0.01, 0.02, 0.03, 0.04]),\n",
       " array([0.  , 0.01, 0.02, 0.03, 0.04, 0.05]),\n",
       " array([0.  , 0.01, 0.02, 0.03, 0.04, 0.05, 0.06]),\n",
       " array([0.  , 0.01, 0.02, 0.03, 0.04, 0.05, 0.06, 0.07])]"
      ]
     },
     "execution_count": 63,
     "metadata": {},
     "output_type": "execute_result"
    }
   ],
   "source": [
    "[np.arange(0, t+dt, dt) for t in ts[1:]]"
   ]
  },
  {
   "cell_type": "code",
   "execution_count": 77,
   "metadata": {},
   "outputs": [
    {
     "data": {
      "text/plain": [
       "array([[ 4.        ,  4.1       ,  4.257     ,  4.46670333,  4.72613011],\n",
       "       [ 5.        ,  5.67      ,  6.35403333,  7.06097107,  7.79850497],\n",
       "       [10.        ,  9.93333333,  9.90091444,  9.90738126,  9.95857705]])"
      ]
     },
     "execution_count": 77,
     "metadata": {},
     "output_type": "execute_result"
    }
   ],
   "source": [
    "lorenz63_fdm(xb.ravel(), np.arange(0, 0.04+dt, dt))"
   ]
  },
  {
   "cell_type": "code",
   "execution_count": 100,
   "metadata": {},
   "outputs": [
    {
     "data": {
      "text/plain": [
       "array([[ 5.78764962],\n",
       "       [10.25406457],\n",
       "       [10.45802341]])"
      ]
     },
     "execution_count": 100,
     "metadata": {},
     "output_type": "execute_result"
    }
   ],
   "source": [
    "def model(x, time, dt):\n",
    "    ts = np.arange(0, time+dt, dt)\n",
    "    return lorenz63_fdm(x, ts)[:,[-1]]\n",
    "\n",
    "models = [lambda x: model(x, t, dt) for t in ts]\n",
    "models[0](xb)"
   ]
  },
  {
   "cell_type": "code",
   "execution_count": 108,
   "metadata": {},
   "outputs": [
    {
     "data": {
      "text/plain": [
       "5"
      ]
     },
     "execution_count": 108,
     "metadata": {},
     "output_type": "execute_result"
    }
   ],
   "source": [
    "def f(a, b):\n",
    "    return a+b\n",
    "\n",
    "ff = [lambda a: f(a, i) for i in range(5)]\n",
    "ff[0](1)"
   ]
  },
  {
   "cell_type": "code",
   "execution_count": null,
   "metadata": {},
   "outputs": [],
   "source": []
  }
 ],
 "metadata": {
  "kernelspec": {
   "display_name": "Python 3",
   "language": "python",
   "name": "python3"
  },
  "language_info": {
   "codemirror_mode": {
    "name": "ipython",
    "version": 3
   },
   "file_extension": ".py",
   "mimetype": "text/x-python",
   "name": "python",
   "nbconvert_exporter": "python",
   "pygments_lexer": "ipython3",
   "version": "3.7.4"
  }
 },
 "nbformat": 4,
 "nbformat_minor": 4
}
