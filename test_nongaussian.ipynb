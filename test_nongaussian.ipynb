{
 "cells": [
  {
   "cell_type": "code",
   "execution_count": 1,
   "metadata": {},
   "outputs": [],
   "source": [
    "%matplotlib inline\n",
    "import numpy as np\n",
    "import matplotlib.pyplot as plt\n",
    "from scipy.stats import skewnorm\n",
    "from scipy.stats import norm"
   ]
  },
  {
   "cell_type": "code",
   "execution_count": 2,
   "metadata": {},
   "outputs": [],
   "source": [
    "a = 4\n",
    "mean, var, skew, kurt = skewnorm.stats(a, moments='mvsk')"
   ]
  },
  {
   "cell_type": "code",
   "execution_count": 3,
   "metadata": {},
   "outputs": [
    {
     "data": {
      "text/plain": [
       "[<matplotlib.lines.Line2D at 0x128b8a68cc8>]"
      ]
     },
     "execution_count": 3,
     "metadata": {},
     "output_type": "execute_result"
    },
    {
     "data": {
      "image/png": "[encoded data removed]",
      "text/plain": [
       "<Figure size 432x288 with 1 Axes>"
      ]
     },
     "metadata": {
      "needs_background": "light"
     },
     "output_type": "display_data"
    }
   ],
   "source": [
    "fig, ax = plt.subplots(1, 1)\n",
    "x = np.linspace(skewnorm.ppf(0.01, a),\n",
    "                skewnorm.ppf(0.99, a), 100)\n",
    "ax.plot(x, skewnorm.pdf(x, a),\n",
    "       'r-', lw=5, alpha=0.6, label='skewnorm pdf')"
   ]
  },
  {
   "cell_type": "code",
   "execution_count": 4,
   "metadata": {},
   "outputs": [
    {
     "data": {
      "text/plain": [
       "(array([ 1.,  5., 10., 31., 30., 17.,  6.]),\n",
       " array([-2.52057907, -1.80701912, -1.09345918, -0.37989924,  0.3336607 ,\n",
       "         1.04722065,  1.76078059,  2.47434053]),\n",
       " <a list of 7 Patch objects>)"
      ]
     },
     "execution_count": 4,
     "metadata": {},
     "output_type": "execute_result"
    },
    {
     "data": {
      "image/png": "[encoded data removed]",
      "text/plain": [
       "<Figure size 432x288 with 1 Axes>"
      ]
     },
     "metadata": {
      "needs_background": "light"
     },
     "output_type": "display_data"
    }
   ],
   "source": [
    "shape = 0.5\n",
    "x = skewnorm.rvs(shape, loc=0, scale=1, size=100)\n",
    "plt.hist(x, bins=7)"
   ]
  },
  {
   "cell_type": "code",
   "execution_count": 89,
   "metadata": {},
   "outputs": [],
   "source": [
    "def gen_skewnormal(mean, var, alpha, size, random_state=None):\n",
    "    # generate standard skew normal distribution\n",
    "    X = skewnorm.rvs(alpha, loc=0, scale=1, size=size, random_state=random_state)\n",
    "    print('(0)')\n",
    "    print(mean, X.mean())\n",
    "    print(var, X.var())\n",
    "    \n",
    "    # theory expectation value (mean) and variance of standard skew normal distribution\n",
    "    tmean = np.sqrt(2/np.pi) * alpha / np.sqrt(1+alpha**2)\n",
    "    tvar = 1 - 2/np.pi * alpha / np.sqrt(1+alpha**2)\n",
    "    print(tvar)\n",
    "\n",
    "    # (1)adjust var (2)adjust mean. Order can not reverse\n",
    "    X = np.sqrt(var/tvar) * X\n",
    "    print('(1)')\n",
    "    print(mean, X.mean())\n",
    "    print(var, X.var())\n",
    "    \n",
    "    tmean = np.sqrt(var/tvar) * np.sqrt(2/np.pi) * alpha / np.sqrt(1+alpha**2)\n",
    "    X = X + mean - tmean    \n",
    "    print('(2)')\n",
    "    print(mean, X.mean())\n",
    "    print(var, X.var())"
   ]
  },
  {
   "cell_type": "code",
   "execution_count": 102,
   "metadata": {},
   "outputs": [
    {
     "name": "stdout",
     "output_type": "stream",
     "text": [
      "(0)\n",
      "5 0.41606607688504976\n",
      "2 0.8313804969030753\n",
      "0.6724618292956412\n",
      "(1)\n",
      "5 0.7175356557743329\n",
      "2 2.472647399998572\n",
      "(2)\n",
      "5 5.009584921268192\n",
      "2 2.472647399998572\n"
     ]
    }
   ],
   "source": [
    "gen_skewnormal(5, 2, 0.6, 100000, 42)"
   ]
  },
  {
   "cell_type": "code",
   "execution_count": 75,
   "metadata": {},
   "outputs": [],
   "source": [
    "# 現在的調整還是怪怪的，最後得到的樣本變異數會受到不同的alpha影響，越大的alpha越接近給定的var"
   ]
  },
  {
   "cell_type": "code",
   "execution_count": null,
   "metadata": {},
   "outputs": [],
   "source": []
  },
  {
   "cell_type": "code",
   "execution_count": null,
   "metadata": {},
   "outputs": [],
   "source": []
  },
  {
   "cell_type": "code",
   "execution_count": null,
   "metadata": {},
   "outputs": [],
   "source": []
  },
  {
   "cell_type": "code",
   "execution_count": null,
   "metadata": {},
   "outputs": [],
   "source": []
  },
  {
   "cell_type": "code",
   "execution_count": null,
   "metadata": {},
   "outputs": [],
   "source": []
  },
  {
   "cell_type": "code",
   "execution_count": null,
   "metadata": {},
   "outputs": [],
   "source": []
  },
  {
   "cell_type": "code",
   "execution_count": 32,
   "metadata": {},
   "outputs": [],
   "source": [
    "h = []\n",
    "for i in range(100):\n",
    "    h.append(norm.rvs(size=100).mean())"
   ]
  },
  {
   "cell_type": "code",
   "execution_count": 34,
   "metadata": {},
   "outputs": [
    {
     "data": {
      "text/plain": [
       "0.004613941776883376"
      ]
     },
     "execution_count": 34,
     "metadata": {},
     "output_type": "execute_result"
    }
   ],
   "source": [
    "sum(h) / 100"
   ]
  },
  {
   "cell_type": "code",
   "execution_count": null,
   "metadata": {},
   "outputs": [],
   "source": []
  }
 ],
 "metadata": {
  "kernelspec": {
   "display_name": "Python 3",
   "language": "python",
   "name": "python3"
  },
  "language_info": {
   "codemirror_mode": {
    "name": "ipython",
    "version": 3
   },
   "file_extension": ".py",
   "mimetype": "text/x-python",
   "name": "python",
   "nbconvert_exporter": "python",
   "pygments_lexer": "ipython3",
   "version": "3.7.4"
  }
 },
 "nbformat": 4,
 "nbformat_minor": 4
}
