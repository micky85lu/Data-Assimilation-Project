{
 "cells": [
  {
   "cell_type": "code",
   "execution_count": 1,
   "metadata": {},
   "outputs": [],
   "source": [
    "%matplotlib inline\n",
    "import numpy as np\n",
    "import matplotlib.pyplot as plt"
   ]
  },
  {
   "cell_type": "code",
   "execution_count": 2,
   "metadata": {},
   "outputs": [],
   "source": [
    "def gen_random_obserr(mean, var, size, obs_intv, random_state=None):\n",
    "    \"\"\"\n",
    "    Generate random gaussian observation error.\n",
    "    \n",
    "    Parameters:\n",
    "    ----------\n",
    "    mean, var: scaler.\n",
    "        Mean and variance for gaussian distribution.\n",
    "    size: int.\n",
    "        The size of output array.\n",
    "    obs_intv: int.\n",
    "        The observation interval length in the output array.\n",
    "    random_state: int.\n",
    "        Random state. Default is None and it will use np.random.randint.\n",
    "        \n",
    "    Return:\n",
    "    ------\n",
    "    obs_err: 1-d array.\n",
    "        The array which observation error occurs every `obs_intv` and others are 0.\n",
    "        \n",
    "    EX:\n",
    "    >>> gen_random_obserr(0, 1, 12, 4)\n",
    "    array([-0.34889445,  0,  0,  0,  0.98370343,  0,  0,  0,\n",
    "           0.58092283,  0,  0,  0])\n",
    "    \"\"\"\n",
    "    if random_state is None:\n",
    "        random_state = np.random.randint(0, 50)\n",
    "    \n",
    "    length = np.ceil(size/obs_intv) * obs_intv\n",
    "    obs_err = np.zeros(int(length)).reshape((-1,obs_intv))\n",
    "    \n",
    "    rng = np.random.RandomState(random_state)\n",
    "    obs_err[:,0] = rng.normal(mean, np.sqrt(var), size=obs_err.shape[0])\n",
    "    obs_err = obs_err.ravel()[:size]\n",
    "    return obs_err\n",
    "\n",
    "\n",
    "def lorenz63_fdm(x0, ts, sigma=None, r=None, b=None):\n",
    "    \"\"\"Solve lorenz63 with finit difference method\"\"\"  \n",
    "    if sigma is None:\n",
    "        sigma = 10\n",
    "    if r is None:\n",
    "        r = 28\n",
    "    if b is None:\n",
    "        b = 8/3\n",
    "    \n",
    "    size = ts.size\n",
    "    dt = ts[1] - ts[0]\n",
    "    \n",
    "    x = np.zeros((size,))\n",
    "    y = np.zeros((size,))\n",
    "    z = np.zeros((size,))\n",
    "    x[0] = x0[0]\n",
    "    y[0] = x0[1]\n",
    "    z[0] = x0[2]\n",
    "    \n",
    "    for i in range(1, size):\n",
    "        x[i] = x[i-1] + sigma * (y[i-1] - x[i-1]) * dt\n",
    "        y[i] = y[i-1] + (r*x[i-1] - y[i-1] - x[i-1]*z[i-1]) * dt\n",
    "        z[i] = z[i-1] + (x[i-1]*y[i-1] - b*z[i-1]) * dt\n",
    "    \n",
    "    return np.vstack((x, y, z))\n",
    "\n",
    "\n",
    "def M(xi, yi, zi, dt, sigma=None, r=None, b=None):\n",
    "    \"\"\"tangent linear model for lorenz63_fdm\"\"\"\n",
    "    if sigma is None:\n",
    "        sigma = 10\n",
    "    if r is None:\n",
    "        r = 28\n",
    "    if b is None:\n",
    "        b = 8/3\n",
    "    \n",
    "    M = np.array([\n",
    "        [1-sigma*dt, sigma*dt, 0],\n",
    "        [r*dt-zi*dt, 1-dt, -xi*dt],\n",
    "        [yi*dt, xi*dt, 1-b*dt]\n",
    "    ])\n",
    "    return M\n",
    "\n",
    "\n",
    "def stability_index_lorenz63(x, y, z, sigma=None, r=None, b=None):\n",
    "    if sigma is None:\n",
    "        sigma = 10\n",
    "    if r is None:\n",
    "        r = 28\n",
    "    if b is None:\n",
    "        b = 8/3\n",
    "        \n",
    "    M = np.array([\n",
    "        [-sigma, sigma, 0],\n",
    "        [r-z, -1, -x],\n",
    "        [y, x, -b]\n",
    "    ])\n",
    "    \n",
    "    eigv, P = np.linalg.eig(M)\n",
    "    r = eigv.real\n",
    "    if np.all(r<0):\n",
    "        # stable case\n",
    "        return r.sum()\n",
    "    else:\n",
    "        # unstable case\n",
    "        r[r<0] = 0\n",
    "        return r.sum()"
   ]
  },
  {
   "cell_type": "code",
   "execution_count": 6,
   "metadata": {},
   "outputs": [
    {
     "data": {
      "text/plain": [
       "(3, 8)"
      ]
     },
     "execution_count": 6,
     "metadata": {},
     "output_type": "execute_result"
    }
   ],
   "source": [
    "X_ini = np.array([[8, 0, 30]]).T\n",
    "dt = 0.01\n",
    "time = 0.08\n",
    "ts = np.arange(0, time, dt)\n",
    "\n",
    "X_nature = lorenz63_fdm(X_ini.ravel(), ts)\n",
    "X_nature.shape"
   ]
  },
  {
   "cell_type": "code",
   "execution_count": 7,
   "metadata": {},
   "outputs": [],
   "source": [
    "X_perturb = np.array([[4, 5, 10]]).T\n",
    "X_forecast = lorenz63_fdm(X_perturb.ravel(), ts)"
   ]
  },
  {
   "cell_type": "code",
   "execution_count": null,
   "metadata": {},
   "outputs": [],
   "source": [
    "obs = X_nature + np.random.randn(3, 8)"
   ]
  },
  {
   "cell_type": "code",
   "execution_count": 14,
   "metadata": {},
   "outputs": [
    {
     "data": {
      "image/png": "[encoded data removed]",
      "text/plain": [
       "<Figure size 720x360 with 3 Axes>"
      ]
     },
     "metadata": {
      "needs_background": "light"
     },
     "output_type": "display_data"
    }
   ],
   "source": [
    "fig, axs = plt.subplots(nrows=3, figsize=(10, 5))\n",
    "for i in range(3):\n",
    "    axs[i].plot(X_nature[i,:], 'k')\n",
    "    axs[i].plot(X_forecast[i,:], 'r')\n",
    "    axs[i].plot(obs[i,:], 'k.')"
   ]
  },
  {
   "cell_type": "code",
   "execution_count": 129,
   "metadata": {},
   "outputs": [],
   "source": [
    "def _4dvar_costfunction(x, xb, xtrac, yo, Pb, R, H_func=None):\n",
    "    \"\"\"\n",
    "    x, xb: (ndim, 1)\n",
    "    x_trac: (ndim, window)\n",
    "    Pb: (ndim, ndim)\n",
    "    yo: (N, window)\n",
    "    R: (window, N, N)\n",
    "    model, H_func: (window,)\n",
    "    \"\"\"\n",
    "    assim_window_len = yo.shape[1]\n",
    "    \n",
    "    if H_func is None:\n",
    "        H_func = [lambda arr: arr for _ in range(assim_window_len)]\n",
    "        \n",
    "    part1 = (xb-x).T @ np.linalg.inv(Pb) @ (xb-x)\n",
    "    part2 = np.zeros_like(part1)\n",
    "    for j in range(assim_window_len):\n",
    "        yj = yo[:,[j]]\n",
    "        Rj = R[j,:,:]\n",
    "        H_j = H_func[j]\n",
    "        xtracj = xtrac[:,[j]]\n",
    "        part2 += (yj-H_j(xtracj)).T @ np.linalg.inv(Rj) @ (yj-H_j(xtracj))\n",
    "    return 0.5 * (part1 + part2)\n",
    "\n",
    "def _gradient_4dvar_costfunction(x, xb, xtrac, yo, Pb, R, M, H_func=None, H=None):\n",
    "    \"\"\"\n",
    "    x, xb: (ndim, 1)\n",
    "    xtrac: (ndim, window)\n",
    "    Pb: (ndim, ndim)\n",
    "    yo: (N, window)\n",
    "    R: (window, N, N)\n",
    "    H_func: (window,)\n",
    "    M: (window, ndim, ndim)\n",
    "    H: (window, N, ndim)\n",
    "    \"\"\"\n",
    "    No, assim_window_len = yo.shape\n",
    "    \n",
    "    if H_func is None:\n",
    "        H_func = [lambda arr: arr for _ in range(assim_window_len)]\n",
    "        H = np.concatenate([np.eye(No)[np.newaxis] for i in range(assim_window_len)])\n",
    "        \n",
    "    part1 = np.linalg.inv(Pb) @ (x-xb)\n",
    "    part2 = np.zeros_like(part1)\n",
    "    for j in range(assim_window_len):\n",
    "        yj = yo[:,[j]]\n",
    "        Mj = M[j,:,:]\n",
    "        Hj = H[j,:,:]\n",
    "        Rj = R[j,:,:]\n",
    "        H_fj = H_func[j]\n",
    "        xtracj = xtrac[:,[j]]\n",
    "        part2 += Mj.T @ Hj.T @ np.linalg.inv(Rj) @ (yj - H_fj(xtracj))\n",
    "    return part1 - part2"
   ]
  },
  {
   "cell_type": "code",
   "execution_count": 114,
   "metadata": {},
   "outputs": [
    {
     "data": {
      "text/plain": [
       "array([[ 4],\n",
       "       [ 5],\n",
       "       [10]])"
      ]
     },
     "execution_count": 114,
     "metadata": {},
     "output_type": "execute_result"
    }
   ],
   "source": [
    "xb = X_perturb\n",
    "xb"
   ]
  },
  {
   "cell_type": "code",
   "execution_count": 142,
   "metadata": {},
   "outputs": [],
   "source": [
    "ts = np.arange(0, time, dt)\n",
    "xb_forecast = lorenz63_fdm(xb.ravel(), ts)\n",
    "\n",
    "Ms = []\n",
    "m = np.eye(3)\n",
    "for i in range(obs.shape[1]):\n",
    "    m = M(xb_forecast[0,i], xb_forecast[1,i], xb_forecast[2,i], dt) @ m\n",
    "    Ms.append(m)\n",
    "Ms = np.stack(Ms)"
   ]
  },
  {
   "cell_type": "code",
   "execution_count": 143,
   "metadata": {},
   "outputs": [
    {
     "data": {
      "text/plain": [
       "array([[  44.1465144 ],\n",
       "       [ -12.2222938 ],\n",
       "       [-112.79376382]])"
      ]
     },
     "execution_count": 143,
     "metadata": {},
     "output_type": "execute_result"
    }
   ],
   "source": [
    "Pb = np.array([\n",
    "    [ 95.92487549, 108.82721654,  13.52170192],\n",
    "    [108.82721654, 135.97355097,  18.39642468],\n",
    "    [ 13.52170192,  18.39642468,  64.98710037]\n",
    "])\n",
    "Pb *= 0.02\n",
    "R = np.eye(3) * 1\n",
    "R = np.concatenate([1*np.eye(3)[np.newaxis,:,:] for i in range(8)])\n",
    "\n",
    "_4dvar_costfunction(np.array([[8, 0, 30]]).T, xb, xb_forecast, obs, Pb, R)\n",
    "_gradient_4dvar_costfunction(np.array([[8, 0, 30]]).T, xb, xb_forecast, obs, Pb, R, Ms)"
   ]
  },
  {
   "cell_type": "code",
   "execution_count": 175,
   "metadata": {},
   "outputs": [
    {
     "name": "stdout",
     "output_type": "stream",
     "text": [
      "133.74904873981842\n",
      "123.20204808678375\n",
      "113.54650668234359\n",
      "104.69796141560275\n",
      "96.58119457275241\n",
      "89.129085723701\n",
      "82.28161541418196\n",
      "75.98500088838024\n",
      "70.1909464311408\n",
      "64.855993019757\n",
      "59.940953862306806\n",
      "55.41042409599878\n",
      "51.23235443880193\n",
      "47.377679941713126\n",
      "43.819996188134446\n",
      "40.535276342361094\n",
      "37.50162337306744\n",
      "34.69905258215776\n",
      "32.10930026658835\n",
      "29.715654942557116\n",
      "27.50280807897395\n",
      "25.456721730765185\n",
      "23.564510841852645\n",
      "21.814338311190298\n",
      "20.19532119073329\n",
      "18.69744661846233\n",
      "17.311496288570652\n",
      "16.028978429846465\n",
      "14.84206640665862\n",
      "13.743543178663135\n",
      "12.72675095871239\n",
      "11.785545496314619\n",
      "10.914254488762014\n",
      "10.107639685775577\n",
      "9.360862307924558\n",
      "8.669451445632225\n",
      "8.029275145502025\n",
      "7.436513925021093\n",
      "6.887636486290125\n",
      "6.379377425014596\n",
      "5.908716753185573\n",
      "5.472861073185654\n",
      "5.069226257913621\n",
      "4.695421506282183\n",
      "4.349234656416702\n",
      "4.028618650319626\n",
      "3.73167905388128\n",
      "3.4566625450932746\n",
      "3.201946291310708\n",
      "2.966028143539961\n",
      "2.747517582113185\n",
      "2.545127353841753\n",
      "2.357665745896846\n",
      "2.1840294463175804\n",
      "2.023196945251662\n",
      "1.8742224348441865\n",
      "1.7362301691472222\n",
      "1.6084092485670647\n",
      "1.4900087962300932\n",
      "1.3803334962601501\n",
      "1.278739466344782\n",
      "1.1846304391515239\n",
      "1.0974542291516605\n",
      "1.0166994632396233\n",
      "0.9418925552168365\n",
      "0.8725949057502422\n",
      "0.808400310832847\n",
      "0.7489325630775258\n",
      "0.6938432313732859\n",
      "0.6428096055382619\n",
      "0.5955327936196498\n",
      "0.5517359604287848\n",
      "0.5111626967632642\n",
      "0.4735755095647906\n",
      "0.4387544239973356\n",
      "0.4064956891091559\n",
      "0.37661057936734615\n",
      "0.3489242849344251\n",
      "0.3232748840897014\n",
      "0.29951239169211674\n",
      "0.27749787803849457\n",
      "0.2571026528920103\n",
      "0.23820750984621522\n",
      "0.22070202655071358\n",
      "0.20448391665738083\n",
      "0.18945842965468326\n",
      "0.17553779504320735\n",
      "0.16264070756842883\n",
      "0.15069185047168795\n",
      "0.1396214539457857\n",
      "0.12936488619004055\n",
      "0.1198622746539157\n",
      "0.11105815523659733\n",
      "0.10290114737517687\n",
      "0.09534365310823864\n",
      "0.08834157834270785\n",
      "0.0818540746829759\n",
      "0.07584330030387962\n",
      "0.07027419845997247\n",
      "0.0651142923292638\n",
      "0.060333494984729036\n",
      "0.055903933376912913\n",
      "0.051799785293121944\n",
      "0.04799712833566684\n",
      "0.04447380003141633\n",
      "0.04120926825216397\n",
      "0.0381845111843372\n",
      "0.03538190614350483\n",
      "0.032785126581830894\n",
      "0.03037904668343401\n",
      "0.028149652988417623\n",
      "0.02608396252717067\n",
      "0.024169946984914672\n",
      "0.02239646245156386\n",
      "0.020753184345703612\n",
      "0.019230547130715515\n",
      "0.017819688470154516\n",
      "0.016512397494858447\n",
      "0.015301066879284972\n",
      "0.014178648445802113\n",
      "0.013138612037284359\n",
      "0.01217490741707965\n",
      "0.011281928973536305\n",
      "0.010454483022047356\n",
      "0.009687757513882369\n",
      "0.008977293973708243\n",
      "0.008318961502577753\n",
      "0.007708932693609238\n",
      "0.007143661319643711\n",
      "0.006619861662632801\n",
      "0.006134489363532173\n",
      "0.005684723681195585\n",
      "0.005267951055958431\n",
      "0.0048817498823725426\n",
      "0.004523876401849643\n",
      "0.004192251632899476\n",
      "0.0038849492623187344\n",
      "0.00360018442707279\n",
      "0.003336303320879519\n",
      "0.003091773565073091\n",
      "0.002865175287302269\n",
      "0.0026551928564919943\n",
      "0.0024606072247675124\n",
      "0.002280288833007874\n",
      "0.002113191037369847\n",
      "0.001958344019285901\n",
      "0.0018148491428852669\n",
      "0.0016818737271684027\n",
      "0.0015586462025042166\n",
      "0.0014444516227428803\n",
      "0.0013386275074390567\n",
      "0.0012405599893598597\n",
      "0.0011496802452254469\n",
      "0.0010654611883748409\n",
      "0.0009874144049005359\n",
      "154 [[ 3.93858034]\n",
      " [ 2.76028848]\n",
      " [27.39533846]]\n"
     ]
    }
   ],
   "source": [
    "x = xb.copy()\n",
    "for _ in range(1000):\n",
    "    ts = np.arange(0, time, dt)\n",
    "    xb_forecast = lorenz63_fdm(x.ravel(), ts)\n",
    "\n",
    "    Ms = []\n",
    "    m = np.eye(3)\n",
    "    for i in range(obs.shape[1]):\n",
    "        m = M(xb_forecast[0,i], xb_forecast[1,i], xb_forecast[2,i], dt) @ m\n",
    "        Ms.append(m)\n",
    "    Ms = np.stack(Ms)\n",
    "\n",
    "    r = 0.01\n",
    "    gradient = _gradient_4dvar_costfunction(x, xb, xb_forecast, obs, Pb, R, Ms)\n",
    "    x_new = x - r * gradient\n",
    "\n",
    "    #if np.abs((x_new-x)/x) <= 0.0001:\n",
    "    print(np.linalg.norm(gradient))\n",
    "    if np.linalg.norm(gradient) <= 0.001:\n",
    "        break\n",
    "    else:\n",
    "        x = x_new\n",
    "\n",
    "print(_, x_new)"
   ]
  },
  {
   "cell_type": "code",
   "execution_count": null,
   "metadata": {},
   "outputs": [],
   "source": []
  },
  {
   "cell_type": "code",
   "execution_count": null,
   "metadata": {},
   "outputs": [],
   "source": []
  },
  {
   "cell_type": "code",
   "execution_count": null,
   "metadata": {},
   "outputs": [],
   "source": []
  },
  {
   "cell_type": "code",
   "execution_count": null,
   "metadata": {},
   "outputs": [],
   "source": []
  },
  {
   "cell_type": "code",
   "execution_count": null,
   "metadata": {},
   "outputs": [],
   "source": []
  },
  {
   "cell_type": "code",
   "execution_count": null,
   "metadata": {},
   "outputs": [],
   "source": []
  },
  {
   "cell_type": "code",
   "execution_count": 163,
   "metadata": {},
   "outputs": [
    {
     "data": {
      "text/plain": [
       "2.0001681830658393"
      ]
     },
     "execution_count": 163,
     "metadata": {},
     "output_type": "execute_result"
    }
   ],
   "source": [
    "def f(x):\n",
    "    return 5*(x-2)**2\n",
    "\n",
    "def df(x):\n",
    "    return 10*(x-2)\n",
    "    \n",
    "def gradient_descent(x0, func, dfunc, r=0.01, maxiter=100000):\n",
    "    x = x0\n",
    "    for _ in range(maxiter):\n",
    "        x_new = x - r * df(x)\n",
    "        if np.abs((x_new-x)/x) <= 0.00001:\n",
    "            return x_new, True\n",
    "        else:\n",
    "            x = x_new\n",
    "    return x_new, False\n",
    "\n",
    "gradient_descent(100, 0.01)"
   ]
  },
  {
   "cell_type": "code",
   "execution_count": null,
   "metadata": {},
   "outputs": [],
   "source": []
  },
  {
   "cell_type": "code",
   "execution_count": null,
   "metadata": {},
   "outputs": [],
   "source": []
  },
  {
   "cell_type": "code",
   "execution_count": null,
   "metadata": {},
   "outputs": [],
   "source": []
  },
  {
   "cell_type": "code",
   "execution_count": null,
   "metadata": {},
   "outputs": [],
   "source": []
  },
  {
   "cell_type": "code",
   "execution_count": null,
   "metadata": {},
   "outputs": [],
   "source": []
  },
  {
   "cell_type": "code",
   "execution_count": null,
   "metadata": {},
   "outputs": [],
   "source": []
  },
  {
   "cell_type": "code",
   "execution_count": null,
   "metadata": {},
   "outputs": [],
   "source": []
  },
  {
   "cell_type": "code",
   "execution_count": null,
   "metadata": {},
   "outputs": [],
   "source": []
  },
  {
   "cell_type": "code",
   "execution_count": 27,
   "metadata": {},
   "outputs": [],
   "source": [
    "def _4dvar_costfunction(x, xb, yo, Pb, R, model, H_func=None):\n",
    "    \"\"\"\n",
    "    x, xb: (ndim, 1)\n",
    "    Pb: (ndim, ndim)\n",
    "    yo: (N, window)\n",
    "    R: (window, N, N)\n",
    "    model, H_func: (window,)\n",
    "    \"\"\"\n",
    "    assim_window_len = yo.shape[1]\n",
    "    \n",
    "    if H_func is None:\n",
    "        H_func = [lambda arr: arr for _ in range(assim_window_len)]\n",
    "        \n",
    "    part1 =(xb-x).T @ np.linalg.inv(Pb) @ (xb-x)\n",
    "    part2 = np.zeros_like(part1)\n",
    "    for j in range(assim_window_len):\n",
    "        yj = yo[:,[j]]\n",
    "        Rj = R[j,:,:]\n",
    "        H_j = H_func[j]\n",
    "        m_j = model[j]\n",
    "        part2 += (yj-H_j(m_j(x))).T @ np.linalg.inv(Rj) @ (yj-H_j(m_j(x)))\n",
    "    return 0.5 * (part1 + part2)\n",
    "\n",
    "def _gradient_4dvar_costfunction(x, xb, yo, Pb, R, M, H_func=None, H=None):\n",
    "    \"\"\"\n",
    "    x, xb: (ndim, 1)\n",
    "    Pb: (ndim, ndim)\n",
    "    yo: (N, window)\n",
    "    R: (window, N, N)\n",
    "    model, H_func: (window,)\n",
    "    M: (window, ndim, ndim)\n",
    "    H: (window, N, ndim)\n",
    "    \"\"\"\n",
    "    No, assim_window_len = yo.shape\n",
    "    \n",
    "    if H_func is None:\n",
    "        H_func = [lambda arr: arr for _ in range(assim_window_len)]\n",
    "        H = np.concatenate([np.eye(No)[np.newaxis] for i in range(assim_window_len)])\n",
    "        \n",
    "    part1 = np.linalg.inv(Pb) @ (x-xb)\n",
    "    part2 = np.zeros_like(part1)\n",
    "    for j in range(assim_window_len):\n",
    "        yj = yo[:,[j]]\n",
    "        Mj = M[j,:,:]\n",
    "        Hj = H[j,:,:]\n",
    "        Rj = R[j,:,:]\n",
    "        H_fj = H_func[j]\n",
    "        m_j = model[j]\n",
    "        part2 += Mj.T @ Hj.T @ np.linalg.inv(Rj) @ (yj - H_fj(m_j(x)))\n",
    "    return part1 - part2"
   ]
  },
  {
   "cell_type": "code",
   "execution_count": 33,
   "metadata": {},
   "outputs": [
    {
     "data": {
      "text/plain": [
       "array([[ 4],\n",
       "       [ 5],\n",
       "       [10]])"
      ]
     },
     "execution_count": 33,
     "metadata": {},
     "output_type": "execute_result"
    }
   ],
   "source": [
    "xb = X_perturb\n",
    "xb"
   ]
  },
  {
   "cell_type": "code",
   "execution_count": 88,
   "metadata": {},
   "outputs": [
    {
     "data": {
      "text/plain": [
       "array([[ 5.78764962],\n",
       "       [10.25406457],\n",
       "       [10.45802341]])"
      ]
     },
     "execution_count": 88,
     "metadata": {},
     "output_type": "execute_result"
    }
   ],
   "source": [
    "ts = np.arange(0, time, dt)\n",
    "xb_forecast = lorenz63_fdm(xb.ravel(), ts)\n",
    "\n",
    "model = [lambda x: x]\n",
    "model += [lambda x: lorenz63_fdm(x.ravel(), np.arange(0, t+dt, dt))[:,[-1]] for t in ts[1:]]\n",
    "\n",
    "model = []\n",
    "for i in range(ts.size):\n",
    "    if i == 0:\n",
    "        model.append(lambda x: x)\n",
    "    else:\n",
    "        t = np.arange(0, ts[i]+dt, dt)\n",
    "        model.append(lambda x: lorenz63_fdm(x.ravel(), t)[:,[-1]])\n",
    "\n",
    "model[4](xb)"
   ]
  },
  {
   "cell_type": "code",
   "execution_count": 63,
   "metadata": {},
   "outputs": [
    {
     "data": {
      "text/plain": [
       "[array([0.  , 0.01]),\n",
       " array([0.  , 0.01, 0.02]),\n",
       " array([0.  , 0.01, 0.02, 0.03]),\n",
       " array([0.  , 0.01, 0.02, 0.03, 0.04]),\n",
       " array([0.  , 0.01, 0.02, 0.03, 0.04, 0.05]),\n",
       " array([0.  , 0.01, 0.02, 0.03, 0.04, 0.05, 0.06]),\n",
       " array([0.  , 0.01, 0.02, 0.03, 0.04, 0.05, 0.06, 0.07])]"
      ]
     },
     "execution_count": 63,
     "metadata": {},
     "output_type": "execute_result"
    }
   ],
   "source": [
    "[np.arange(0, t+dt, dt) for t in ts[1:]]"
   ]
  },
  {
   "cell_type": "code",
   "execution_count": 77,
   "metadata": {},
   "outputs": [
    {
     "data": {
      "text/plain": [
       "array([[ 4.        ,  4.1       ,  4.257     ,  4.46670333,  4.72613011],\n",
       "       [ 5.        ,  5.67      ,  6.35403333,  7.06097107,  7.79850497],\n",
       "       [10.        ,  9.93333333,  9.90091444,  9.90738126,  9.95857705]])"
      ]
     },
     "execution_count": 77,
     "metadata": {},
     "output_type": "execute_result"
    }
   ],
   "source": [
    "lorenz63_fdm(xb.ravel(), np.arange(0, 0.04+dt, dt))"
   ]
  },
  {
   "cell_type": "code",
   "execution_count": 100,
   "metadata": {},
   "outputs": [
    {
     "data": {
      "text/plain": [
       "array([[ 5.78764962],\n",
       "       [10.25406457],\n",
       "       [10.45802341]])"
      ]
     },
     "execution_count": 100,
     "metadata": {},
     "output_type": "execute_result"
    }
   ],
   "source": [
    "def model(x, time, dt):\n",
    "    ts = np.arange(0, time+dt, dt)\n",
    "    return lorenz63_fdm(x, ts)[:,[-1]]\n",
    "\n",
    "models = [lambda x: model(x, t, dt) for t in ts]\n",
    "models[0](xb)"
   ]
  },
  {
   "cell_type": "code",
   "execution_count": 108,
   "metadata": {},
   "outputs": [
    {
     "data": {
      "text/plain": [
       "5"
      ]
     },
     "execution_count": 108,
     "metadata": {},
     "output_type": "execute_result"
    }
   ],
   "source": [
    "def f(a, b):\n",
    "    return a+b\n",
    "\n",
    "ff = [lambda a: f(a, i) for i in range(5)]\n",
    "ff[0](1)"
   ]
  },
  {
   "cell_type": "code",
   "execution_count": null,
   "metadata": {},
   "outputs": [],
   "source": []
  }
 ],
 "metadata": {
  "kernelspec": {
   "display_name": "Python 3",
   "language": "python",
   "name": "python3"
  },
  "language_info": {
   "codemirror_mode": {
    "name": "ipython",
    "version": 3
   },
   "file_extension": ".py",
   "mimetype": "text/x-python",
   "name": "python",
   "nbconvert_exporter": "python",
   "pygments_lexer": "ipython3",
   "version": "3.7.4"
  }
 },
 "nbformat": 4,
 "nbformat_minor": 4
}
