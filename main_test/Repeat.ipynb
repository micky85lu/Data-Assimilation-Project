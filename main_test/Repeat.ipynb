{
 "cells": [
  {
   "cell_type": "code",
   "execution_count": 1,
   "metadata": {},
   "outputs": [],
   "source": [
    "%matplotlib inline\n",
    "import numpy as np\n",
    "import matplotlib.pyplot as plt\n",
    "\n",
    "from assimilation import EnKF, M3DVar, ExtendedKF, M4DVar, Hybrid3DEnVar\n",
    "from model import lorenz63_fdm, M63"
   ]
  },
  {
   "cell_type": "code",
   "execution_count": 2,
   "metadata": {},
   "outputs": [],
   "source": [
    "X_nature = np.load('./data/X_nature.npy')\n",
    "X_ini = np.load('./data/X_ini.npy')\n",
    "obs = np.load('./data/4DVar/obs_normal.npy')\n",
    "ts = np.load('./data/time_span.npy')\n",
    "Pb = np.load('./data/Pb.npy')\n",
    "R = np.load('./data/R.npy')\n",
    "\n",
    "dt = 0.01\n",
    "\n",
    "# generate initial ensemble\n",
    "N_ens = 30\n",
    "rng = np.random.RandomState(42)\n",
    "X_ens_ini = rng.multivariate_normal(X_ini.ravel(), Pb, size=N_ens).T  # (3, N_ens)\n",
    "\n",
    "def RMSE(forecast, nature):\n",
    "    return np.sqrt(np.mean((forecast-nature)**2, axis=0))"
   ]
  },
  {
   "cell_type": "markdown",
   "metadata": {},
   "source": [
    "# normal"
   ]
  },
  {
   "cell_type": "code",
   "execution_count": 9,
   "metadata": {},
   "outputs": [],
   "source": [
    "normal_rmse = {}"
   ]
  },
  {
   "cell_type": "markdown",
   "metadata": {},
   "source": [
    "#### EnKF"
   ]
  },
  {
   "cell_type": "code",
   "execution_count": 10,
   "metadata": {},
   "outputs": [],
   "source": [
    "da_rmse = []\n",
    "\n",
    "for _ in range(10):\n",
    "    obs_intv = 8\n",
    "    obs = X_nature + np.random.randn(*X_nature.shape) * np.sqrt(2)\n",
    "    obs = obs[:,::obs_intv]\n",
    "    \n",
    "    da = EnKF(lorenz63_fdm, dt)\n",
    "    da.list_params()\n",
    "    params = {\n",
    "        'X_ens_ini': X_ens_ini,\n",
    "        'obs': obs,\n",
    "        'obs_interv': obs_intv,\n",
    "        'R': R,\n",
    "        'H_func': lambda arr: arr,\n",
    "        'alpha': 0.3,\n",
    "        'inflat': 1.5\n",
    "    }\n",
    "    da.set_params(**params)\n",
    "    da.cycle()\n",
    "    \n",
    "    da_rmse.append(RMSE(da.analysis.mean(axis=0), X_nature).mean())"
   ]
  },
  {
   "cell_type": "code",
   "execution_count": 11,
   "metadata": {},
   "outputs": [],
   "source": [
    "normal_rmse['EnKF'] = da_rmse"
   ]
  },
  {
   "cell_type": "markdown",
   "metadata": {},
   "source": [
    "#### EKF"
   ]
  },
  {
   "cell_type": "code",
   "execution_count": 19,
   "metadata": {},
   "outputs": [],
   "source": [
    "da_rmse = []\n",
    "\n",
    "for _ in range(10):\n",
    "    obs_intv = 8\n",
    "    obs = X_nature + np.random.randn(*X_nature.shape) * np.sqrt(2)\n",
    "    obs = obs[:,::obs_intv]\n",
    "\n",
    "    da = ExtendedKF(lorenz63_fdm, dt)\n",
    "    da.list_params()\n",
    "    params = {\n",
    "        'X_ini': X_ini,\n",
    "        'obs': obs,\n",
    "        'obs_interv': obs_intv,\n",
    "        'Pb': Pb,\n",
    "        'R': R,\n",
    "        'H_func': lambda arr: arr,\n",
    "        'H': np.eye(3),\n",
    "        'M': lambda x: M63(x, dt),\n",
    "        'alpha': 0.3,\n",
    "        'inflat': 1.5\n",
    "    }\n",
    "    da.set_params(**params)\n",
    "    da.cycle()\n",
    "    \n",
    "    da_rmse.append(RMSE(da.analysis, X_nature).mean())"
   ]
  },
  {
   "cell_type": "code",
   "execution_count": 20,
   "metadata": {},
   "outputs": [],
   "source": [
    "normal_rmse['EKF'] = da_rmse"
   ]
  },
  {
   "cell_type": "markdown",
   "metadata": {},
   "source": [
    "#### 3DVAR"
   ]
  },
  {
   "cell_type": "code",
   "execution_count": 26,
   "metadata": {},
   "outputs": [],
   "source": [
    "da_rmse = []\n",
    "\n",
    "for _ in range(10):\n",
    "    obs_intv = 8\n",
    "    obs = X_nature + np.random.randn(*X_nature.shape) * np.sqrt(2)\n",
    "    obs = obs[:,::obs_intv]\n",
    "\n",
    "    da = M3DVar(lorenz63_fdm, dt)\n",
    "    da.list_params()\n",
    "    params = {\n",
    "        'X_ini': X_ini,\n",
    "        'obs': obs,\n",
    "        'obs_interv': obs_intv,\n",
    "        'Pb': Pb,\n",
    "        'R': R,\n",
    "        'H_func': lambda arr: arr,\n",
    "    }\n",
    "    da.set_params(**params)\n",
    "    da.cycle()\n",
    "    \n",
    "    da_rmse.append(RMSE(da.analysis, X_nature).mean())"
   ]
  },
  {
   "cell_type": "code",
   "execution_count": 27,
   "metadata": {},
   "outputs": [],
   "source": [
    "normal_rmse['3DVar'] = da_rmse"
   ]
  },
  {
   "cell_type": "markdown",
   "metadata": {},
   "source": [
    "#### 3DEnVar"
   ]
  },
  {
   "cell_type": "code",
   "execution_count": 35,
   "metadata": {},
   "outputs": [],
   "source": [
    "da_rmse = []\n",
    "\n",
    "for _ in range(10):\n",
    "    obs_intv = 8\n",
    "    obs = X_nature + np.random.randn(*X_nature.shape) * np.sqrt(2)\n",
    "    obs = obs[:,::obs_intv]\n",
    "\n",
    "    da = Hybrid3DEnVar(lorenz63_fdm, dt)\n",
    "    da.list_params()\n",
    "    params = {\n",
    "        'X_ini': X_ini,\n",
    "        'X_ens_ini': X_ens_ini,\n",
    "        'obs': obs,\n",
    "        'obs_interv': obs_intv,\n",
    "        'Pb': Pb,\n",
    "        'R': R,\n",
    "        'H_func': lambda arr: arr,\n",
    "        'H': np.eye(3),\n",
    "        'alpha': 0.3,\n",
    "        'inflat': 1.5,\n",
    "        'beta': 0.6\n",
    "    }\n",
    "    da.set_params(**params)\n",
    "    da.cycle()\n",
    "    \n",
    "    da_rmse.append(RMSE(da.analysis_3dvar, X_nature).mean())"
   ]
  },
  {
   "cell_type": "code",
   "execution_count": 36,
   "metadata": {},
   "outputs": [],
   "source": [
    "normal_rmse['3DEnVar'] = da_rmse"
   ]
  },
  {
   "cell_type": "code",
   "execution_count": null,
   "metadata": {},
   "outputs": [],
   "source": []
  },
  {
   "cell_type": "markdown",
   "metadata": {},
   "source": [
    "# Skew"
   ]
  },
  {
   "cell_type": "code",
   "execution_count": 42,
   "metadata": {},
   "outputs": [],
   "source": [
    "from scipy.stats import skewnorm\n",
    "\n",
    "def gen_skewnormal(mean, var, alpha, size, random_state=None):\n",
    "    \"\"\"generate random number by skewnorm, and adjust them into given mean and variance\"\"\"\n",
    "    # generate standard skew normal distribution\n",
    "    X = skewnorm.rvs(alpha, loc=0, scale=1, size=size, random_state=random_state)\n",
    "    \n",
    "    # theory expectation value (mean) and variance of standard skew normal distribution\n",
    "    tmean = np.sqrt(2/np.pi) * alpha / np.sqrt(1+alpha**2)\n",
    "    tvar = 1 - 2/np.pi * alpha**2 / (1+alpha**2)\n",
    "\n",
    "    # adjust var, then adjust mean\n",
    "    X = np.sqrt(var/tvar) * X\n",
    "    tmean = np.sqrt(var/tvar) * np.sqrt(2/np.pi) * alpha / np.sqrt(1+alpha**2)\n",
    "    X = X + mean - tmean\n",
    "    \n",
    "    return X\n",
    "\n",
    "def gen_skewobs(nature, mean, var, alpha, obs_intv, random_state=None):\n",
    "    \"\"\"generate skew observations\"\"\"\n",
    "    ndim, size = nature.shape\n",
    "    \n",
    "    if isinstance(mean, (int, float)):\n",
    "        mean = [mean for _ in range(ndim)]\n",
    "    if isinstance(var, (int, float)):\n",
    "        var = [var for _ in range(ndim)]\n",
    "    if isinstance(alpha, (int, float)):\n",
    "        alpha = [alpha for _ in range(ndim)]\n",
    "        \n",
    "    if random_state is None:\n",
    "        random_state = [np.random.randint(0, 100) for _ in range(ndim)]\n",
    "    \n",
    "    obs = np.zeros((ndim, size//obs_intv))\n",
    "    for irow, (m, v, a, rst) in enumerate(zip(mean, var, alpha, random_state)):\n",
    "        samples = gen_skewnormal(m, v, a, size, rst)\n",
    "        #samples_tmp = samples.copy()\n",
    "        #samples_tmp[::obs_intv] = 0\n",
    "        #samples = samples - samples_tmp\n",
    "        obs[irow,:] = (nature[irow,:] + samples)[::obs_intv]\n",
    "        \n",
    "    return obs"
   ]
  },
  {
   "cell_type": "code",
   "execution_count": 40,
   "metadata": {},
   "outputs": [],
   "source": [
    "skew_rmse = {}"
   ]
  },
  {
   "cell_type": "markdown",
   "metadata": {},
   "source": [
    "#### EnKF"
   ]
  },
  {
   "cell_type": "code",
   "execution_count": 45,
   "metadata": {},
   "outputs": [
    {
     "name": "stdout",
     "output_type": "stream",
     "text": [
      "1.3\n",
      "1.55\n",
      "1.8\n",
      "2.05\n",
      "2.3\n",
      "2.55\n",
      "2.8\n",
      "3.05\n",
      "3.3\n"
     ]
    }
   ],
   "source": [
    "alphas = [1.30, 1.55, 1.80, 2.05, 2.30, 2.55, 2.80, 3.05, 3.30]\n",
    "alpha_rmse = []\n",
    "\n",
    "for alpha in alphas:\n",
    "    print(alpha)\n",
    "    da_rmse = []\n",
    "    \n",
    "    for _ in range(10):\n",
    "        obs_intv = 8\n",
    "        obs = gen_skewobs(X_nature, 0, 2, alpha, obs_intv = 8)\n",
    "\n",
    "        da = EnKF(lorenz63_fdm, dt)\n",
    "        da.list_params()\n",
    "        params = {\n",
    "            'X_ens_ini': X_ens_ini,\n",
    "            'obs': obs,\n",
    "            'obs_interv': obs_intv,\n",
    "            'R': R,\n",
    "            'H_func': lambda arr: arr,\n",
    "            'alpha': 0.3,\n",
    "            'inflat': 1.5\n",
    "        }\n",
    "        da.set_params(**params)\n",
    "        da.cycle()\n",
    "\n",
    "        da_rmse.append(RMSE(da.analysis.mean(axis=0), X_nature).mean())\n",
    "        \n",
    "    alpha_rmse.append(np.mean(da_rmse))"
   ]
  },
  {
   "cell_type": "code",
   "execution_count": 46,
   "metadata": {},
   "outputs": [],
   "source": [
    "skew_rmse['EnKF'] = alpha_rmse"
   ]
  },
  {
   "cell_type": "markdown",
   "metadata": {},
   "source": [
    "#### EKF"
   ]
  },
  {
   "cell_type": "code",
   "execution_count": 50,
   "metadata": {},
   "outputs": [
    {
     "name": "stdout",
     "output_type": "stream",
     "text": [
      "1.3\n",
      "1.55\n",
      "1.8\n",
      "2.05\n",
      "2.3\n",
      "2.55\n",
      "2.8\n",
      "3.05\n",
      "3.3\n"
     ]
    }
   ],
   "source": [
    "alphas = [1.30, 1.55, 1.80, 2.05, 2.30, 2.55, 2.80, 3.05, 3.30]\n",
    "alpha_rmse = []\n",
    "\n",
    "for alpha in alphas:\n",
    "    print(alpha)\n",
    "    da_rmse = []\n",
    "    \n",
    "    for _ in range(10):\n",
    "        obs_intv = 8\n",
    "        obs = gen_skewobs(X_nature, 0, 2, alpha, obs_intv = 8)\n",
    "\n",
    "        da = ExtendedKF(lorenz63_fdm, dt)\n",
    "        da.list_params()\n",
    "        params = {\n",
    "            'X_ini': X_ini,\n",
    "            'obs': obs,\n",
    "            'obs_interv': obs_intv,\n",
    "            'Pb': Pb,\n",
    "            'R': R,\n",
    "            'H_func': lambda arr: arr,\n",
    "            'H': np.eye(3),\n",
    "            'M': lambda x: M63(x, dt),\n",
    "            'alpha': 0.3,\n",
    "            'inflat': 1.5\n",
    "        }\n",
    "        da.set_params(**params)\n",
    "        da.cycle()\n",
    "\n",
    "        da_rmse.append(RMSE(da.analysis, X_nature).mean())\n",
    "    \n",
    "    alpha_rmse.append(np.mean(da_rmse))"
   ]
  },
  {
   "cell_type": "code",
   "execution_count": 51,
   "metadata": {},
   "outputs": [],
   "source": [
    "skew_rmse['EKF'] = alpha_rmse"
   ]
  },
  {
   "cell_type": "markdown",
   "metadata": {},
   "source": [
    "#### 3DVar"
   ]
  },
  {
   "cell_type": "code",
   "execution_count": 54,
   "metadata": {},
   "outputs": [
    {
     "name": "stdout",
     "output_type": "stream",
     "text": [
      "1.3\n",
      "1.55\n",
      "1.8\n",
      "2.05\n",
      "2.3\n",
      "2.55\n",
      "2.8\n",
      "3.05\n",
      "3.3\n"
     ]
    }
   ],
   "source": [
    "alphas = [1.30, 1.55, 1.80, 2.05, 2.30, 2.55, 2.80, 3.05, 3.30]\n",
    "alpha_rmse = []\n",
    "\n",
    "for alpha in alphas:\n",
    "    print(alpha)\n",
    "    da_rmse = []\n",
    "    \n",
    "    for _ in range(10):\n",
    "        obs_intv = 8\n",
    "        obs = gen_skewobs(X_nature, 0, 2, alpha, obs_intv = 8)\n",
    "\n",
    "        da = M3DVar(lorenz63_fdm, dt)\n",
    "        da.list_params()\n",
    "        params = {\n",
    "            'X_ini': X_ini,\n",
    "            'obs': obs,\n",
    "            'obs_interv': obs_intv,\n",
    "            'Pb': Pb,\n",
    "            'R': R,\n",
    "            'H_func': lambda arr: arr,\n",
    "        }\n",
    "        da.set_params(**params)\n",
    "        da.cycle()\n",
    "\n",
    "        da_rmse.append(RMSE(da.analysis, X_nature).mean())\n",
    "    \n",
    "    alpha_rmse.append(np.mean(da_rmse))"
   ]
  },
  {
   "cell_type": "code",
   "execution_count": 55,
   "metadata": {},
   "outputs": [],
   "source": [
    "skew_rmse['3DVar'] = alpha_rmse"
   ]
  },
  {
   "cell_type": "markdown",
   "metadata": {},
   "source": [
    "#### 3DEnVar"
   ]
  },
  {
   "cell_type": "code",
   "execution_count": 57,
   "metadata": {},
   "outputs": [
    {
     "name": "stdout",
     "output_type": "stream",
     "text": [
      "1.3\n",
      "1.55\n",
      "1.8\n",
      "2.05\n",
      "2.3\n",
      "2.55\n",
      "2.8\n",
      "3.05\n",
      "3.3\n"
     ]
    }
   ],
   "source": [
    "alphas = [1.30, 1.55, 1.80, 2.05, 2.30, 2.55, 2.80, 3.05, 3.30]\n",
    "alpha_rmse = []\n",
    "\n",
    "for alpha in alphas:\n",
    "    print(alpha)\n",
    "    da_rmse = []\n",
    "    \n",
    "    for _ in range(10):\n",
    "        obs_intv = 8\n",
    "        obs = gen_skewobs(X_nature, 0, 2, alpha, obs_intv = 8)\n",
    "\n",
    "        da = Hybrid3DEnVar(lorenz63_fdm, dt)\n",
    "        da.list_params()\n",
    "        params = {\n",
    "            'X_ini': X_ini,\n",
    "            'X_ens_ini': X_ens_ini,\n",
    "            'obs': obs,\n",
    "            'obs_interv': obs_intv,\n",
    "            'Pb': Pb,\n",
    "            'R': R,\n",
    "            'H_func': lambda arr: arr,\n",
    "            'H': np.eye(3),\n",
    "            'alpha': 0.3,\n",
    "            'inflat': 1.5,\n",
    "            'beta': 0.6\n",
    "        }\n",
    "        da.set_params(**params)\n",
    "        da.cycle()\n",
    "\n",
    "        da_rmse.append(RMSE(da.analysis_3dvar, X_nature).mean())\n",
    "    \n",
    "    alpha_rmse.append(np.mean(da_rmse))"
   ]
  },
  {
   "cell_type": "code",
   "execution_count": 58,
   "metadata": {},
   "outputs": [],
   "source": [
    "skew_rmse['3DEnVar'] = alpha_rmse"
   ]
  },
  {
   "cell_type": "code",
   "execution_count": null,
   "metadata": {},
   "outputs": [],
   "source": []
  },
  {
   "cell_type": "code",
   "execution_count": null,
   "metadata": {},
   "outputs": [],
   "source": []
  },
  {
   "cell_type": "markdown",
   "metadata": {},
   "source": [
    "# Kurtosis"
   ]
  },
  {
   "cell_type": "code",
   "execution_count": 59,
   "metadata": {},
   "outputs": [],
   "source": [
    "from scipy.stats import kurtosis\n",
    "from scipy.special import erf, erfinv\n",
    "\n",
    "def invcdf(x, mean, var, epsilon, delta):\n",
    "    \"\"\"inverse CDF of sinh-arcsinh transform of normal distrubution\"\"\"\n",
    "    return np.sinh(epsilon/delta + 1/delta * np.arcsinh(mean + np.sqrt(2*var) * erfinv(2*x-1)))\n",
    "\n",
    "def gen_kurtosis_normal(size, mean, var, epsilon, delta, random_state=None):\n",
    "    \"\"\"add kurtosis in normal distribution by using sinh-arcsinh transform\"\"\"\n",
    "    rng = np.random.RandomState(random_state)\n",
    "    u = rng.rand(size)\n",
    "    samples = invcdf(u, mean, var, epsilon, delta)\n",
    "    return samples\n",
    "\n",
    "def est_tvar(delta, size=1000, times=1000):\n",
    "    \"\"\"estimate theory variance\"\"\"\n",
    "    variances = np.zeros((times,))\n",
    "    for i in range(times):\n",
    "        u = np.random.rand(size)\n",
    "        samples = invcdf(u, 0, 2, 0, delta)\n",
    "        variances[i] = samples.var()\n",
    "    return np.mean(variances)\n",
    "\n",
    "def gen_kurtobs(nature, mean, var, delta, obs_intv, random_state=None):\n",
    "    ndim, size = nature.shape\n",
    "    \n",
    "    if isinstance(mean, (int, float)):\n",
    "        mean = [mean for _ in range(ndim)]\n",
    "    if isinstance(var, (int, float)):\n",
    "        var = [var for _ in range(ndim)]\n",
    "    if isinstance(delta, (int, float)):\n",
    "        delta = [delta for _ in range(ndim)]\n",
    "        \n",
    "    if random_state is None:\n",
    "        random_state = [np.random.randint(0, 100) for _ in range(ndim)]\n",
    "        \n",
    "    obs = np.zeros((ndim, size//obs_intv))\n",
    "    for irow, (m, v, d, rst) in enumerate(zip(mean, var, delta, random_state)):\n",
    "        samples = gen_kurtosis_normal(size, m, v, 0, d, rst)\n",
    "        # adjust to given variance\n",
    "        samples = samples * np.sqrt(v / est_tvar(d))\n",
    "        obs[irow,:] = (nature[irow,:] + samples)[::obs_intv]\n",
    "        \n",
    "    return obs"
   ]
  },
  {
   "cell_type": "code",
   "execution_count": 60,
   "metadata": {},
   "outputs": [],
   "source": [
    "kurt_rmse = {}"
   ]
  },
  {
   "cell_type": "markdown",
   "metadata": {},
   "source": [
    "#### EnKF"
   ]
  },
  {
   "cell_type": "code",
   "execution_count": 64,
   "metadata": {},
   "outputs": [
    {
     "name": "stdout",
     "output_type": "stream",
     "text": [
      "0.1\n",
      "0.2\n",
      "0.3\n",
      "0.4\n",
      "2.5\n",
      "2.8\n",
      "3.1\n",
      "3.4\n"
     ]
    }
   ],
   "source": [
    "deltas = [0.1, 0.2, 0.3, 0.4, 2.5, 2.8, 3.1, 3.4]\n",
    "delta_rmse = []\n",
    "\n",
    "for delta in deltas:\n",
    "    print(delta)\n",
    "    da_rmse = []\n",
    "    \n",
    "    for _ in range(10):\n",
    "        obs_intv = 8\n",
    "        obs = gen_kurtobs(X_nature, 0, 2, delta, obs_intv=8)\n",
    "\n",
    "        da = EnKF(lorenz63_fdm, dt)\n",
    "        da.list_params()\n",
    "        params = {\n",
    "            'X_ens_ini': X_ens_ini,\n",
    "            'obs': obs,\n",
    "            'obs_interv': obs_intv,\n",
    "            'R': R,\n",
    "            'H_func': lambda arr: arr,\n",
    "            'alpha': 0.3,\n",
    "            'inflat': 1.5\n",
    "        }\n",
    "        da.set_params(**params)\n",
    "        da.cycle()\n",
    "\n",
    "        da_rmse.append(RMSE(da.analysis.mean(axis=0), X_nature).mean())\n",
    "        \n",
    "    delta_rmse.append(np.mean(da_rmse))"
   ]
  },
  {
   "cell_type": "code",
   "execution_count": 65,
   "metadata": {},
   "outputs": [],
   "source": [
    "kurt_rmse['EnKF'] = delta_rmse"
   ]
  },
  {
   "cell_type": "markdown",
   "metadata": {},
   "source": [
    "#### EKF"
   ]
  },
  {
   "cell_type": "code",
   "execution_count": 66,
   "metadata": {},
   "outputs": [
    {
     "name": "stdout",
     "output_type": "stream",
     "text": [
      "0.1\n",
      "0.2\n",
      "0.3\n",
      "0.4\n",
      "2.5\n",
      "2.8\n",
      "3.1\n",
      "3.4\n"
     ]
    }
   ],
   "source": [
    "deltas = [0.1, 0.2, 0.3, 0.4, 2.5, 2.8, 3.1, 3.4]\n",
    "delta_rmse = []\n",
    "\n",
    "for delta in deltas:\n",
    "    print(delta)\n",
    "    da_rmse = []\n",
    "    \n",
    "    for _ in range(10):\n",
    "        obs_intv = 8\n",
    "        obs = gen_kurtobs(X_nature, 0, 2, delta, obs_intv=8)\n",
    "\n",
    "        da = ExtendedKF(lorenz63_fdm, dt)\n",
    "        da.list_params()\n",
    "        params = {\n",
    "            'X_ini': X_ini,\n",
    "            'obs': obs,\n",
    "            'obs_interv': obs_intv,\n",
    "            'Pb': Pb,\n",
    "            'R': R,\n",
    "            'H_func': lambda arr: arr,\n",
    "            'H': np.eye(3),\n",
    "            'M': lambda x: M63(x, dt),\n",
    "            'alpha': 0.3,\n",
    "            'inflat': 1.5\n",
    "        }\n",
    "        da.set_params(**params)\n",
    "        da.cycle()\n",
    "\n",
    "        da_rmse.append(RMSE(da.analysis, X_nature).mean())\n",
    "        \n",
    "    delta_rmse.append(np.mean(da_rmse))"
   ]
  },
  {
   "cell_type": "code",
   "execution_count": 67,
   "metadata": {},
   "outputs": [],
   "source": [
    "kurt_rmse['EKF'] = delta_rmse"
   ]
  },
  {
   "cell_type": "markdown",
   "metadata": {},
   "source": [
    "#### 3DVar"
   ]
  },
  {
   "cell_type": "code",
   "execution_count": 70,
   "metadata": {},
   "outputs": [
    {
     "name": "stdout",
     "output_type": "stream",
     "text": [
      "0.1\n",
      "0.2\n",
      "0.3\n",
      "0.4\n",
      "2.5\n",
      "2.8\n",
      "3.1\n",
      "3.4\n"
     ]
    }
   ],
   "source": [
    "deltas = [0.1, 0.2, 0.3, 0.4, 2.5, 2.8, 3.1, 3.4]\n",
    "delta_rmse = []\n",
    "\n",
    "for delta in deltas:\n",
    "    print(delta)\n",
    "    da_rmse = []\n",
    "    \n",
    "    for _ in range(10):\n",
    "        obs_intv = 8\n",
    "        obs = gen_kurtobs(X_nature, 0, 2, delta, obs_intv=8)\n",
    "\n",
    "        da = M3DVar(lorenz63_fdm, dt)\n",
    "        da.list_params()\n",
    "        params = {\n",
    "            'X_ini': X_ini,\n",
    "            'obs': obs,\n",
    "            'obs_interv': obs_intv,\n",
    "            'Pb': Pb,\n",
    "            'R': R,\n",
    "            'H_func': lambda arr: arr,\n",
    "        }\n",
    "        da.set_params(**params)\n",
    "        da.cycle()\n",
    "\n",
    "        da_rmse.append(RMSE(da.analysis, X_nature).mean())\n",
    "        \n",
    "    delta_rmse.append(np.mean(da_rmse))"
   ]
  },
  {
   "cell_type": "code",
   "execution_count": 71,
   "metadata": {},
   "outputs": [],
   "source": [
    "kurt_rmse['3DVar'] = delta_rmse"
   ]
  },
  {
   "cell_type": "markdown",
   "metadata": {},
   "source": [
    "#### 3DEnVar"
   ]
  },
  {
   "cell_type": "code",
   "execution_count": 72,
   "metadata": {},
   "outputs": [
    {
     "name": "stdout",
     "output_type": "stream",
     "text": [
      "0.1\n",
      "0.2\n",
      "0.3\n",
      "0.4\n",
      "2.5\n",
      "2.8\n",
      "3.1\n",
      "3.4\n"
     ]
    }
   ],
   "source": [
    "deltas = [0.1, 0.2, 0.3, 0.4, 2.5, 2.8, 3.1, 3.4]\n",
    "delta_rmse = []\n",
    "\n",
    "for delta in deltas:\n",
    "    print(delta)\n",
    "    da_rmse = []\n",
    "    \n",
    "    for _ in range(10):\n",
    "        obs_intv = 8\n",
    "        obs = gen_kurtobs(X_nature, 0, 2, delta, obs_intv=8)\n",
    "\n",
    "        da = Hybrid3DEnVar(lorenz63_fdm, dt)\n",
    "        da.list_params()\n",
    "        params = {\n",
    "            'X_ini': X_ini,\n",
    "            'X_ens_ini': X_ens_ini,\n",
    "            'obs': obs,\n",
    "            'obs_interv': obs_intv,\n",
    "            'Pb': Pb,\n",
    "            'R': R,\n",
    "            'H_func': lambda arr: arr,\n",
    "            'H': np.eye(3),\n",
    "            'alpha': 0.3,\n",
    "            'inflat': 1.5,\n",
    "            'beta': 0.6\n",
    "        }\n",
    "        da.set_params(**params)\n",
    "        da.cycle()\n",
    "\n",
    "        da_rmse.append(RMSE(da.analysis_3dvar, X_nature).mean())\n",
    "        \n",
    "    delta_rmse.append(np.mean(da_rmse))"
   ]
  },
  {
   "cell_type": "code",
   "execution_count": 73,
   "metadata": {},
   "outputs": [],
   "source": [
    "kurt_rmse['3DEnVar'] = delta_rmse"
   ]
  },
  {
   "cell_type": "code",
   "execution_count": null,
   "metadata": {},
   "outputs": [],
   "source": []
  },
  {
   "cell_type": "code",
   "execution_count": null,
   "metadata": {},
   "outputs": [],
   "source": []
  },
  {
   "cell_type": "code",
   "execution_count": null,
   "metadata": {},
   "outputs": [],
   "source": []
  },
  {
   "cell_type": "code",
   "execution_count": 81,
   "metadata": {},
   "outputs": [
    {
     "data": {
      "image/png": "[encoded data removed]",
      "text/plain": [
       "<Figure size 432x288 with 1 Axes>"
      ]
     },
     "metadata": {
      "needs_background": "light"
     },
     "output_type": "display_data"
    }
   ],
   "source": [
    "for key, val in skew_rmse.items():\n",
    "    plt.plot(alphas, val, label=key)\n",
    "plt.legend()\n",
    "plt.title('Skew');"
   ]
  },
  {
   "cell_type": "code",
   "execution_count": 82,
   "metadata": {},
   "outputs": [
    {
     "data": {
      "image/png": "[encoded data removed]",
      "text/plain": [
       "<Figure size 432x288 with 1 Axes>"
      ]
     },
     "metadata": {
      "needs_background": "light"
     },
     "output_type": "display_data"
    }
   ],
   "source": [
    "for key, val in kurt_rmse.items():\n",
    "    plt.plot(deltas, val, label=key)\n",
    "plt.legend()\n",
    "plt.title('kurtosis');"
   ]
  },
  {
   "cell_type": "code",
   "execution_count": null,
   "metadata": {},
   "outputs": [],
   "source": []
  }
 ],
 "metadata": {
  "kernelspec": {
   "display_name": "Python 3",
   "language": "python",
   "name": "python3"
  },
  "language_info": {
   "codemirror_mode": {
    "name": "ipython",
    "version": 3
   },
   "file_extension": ".py",
   "mimetype": "text/x-python",
   "name": "python",
   "nbconvert_exporter": "python",
   "pygments_lexer": "ipython3",
   "version": "3.7.4"
  }
 },
 "nbformat": 4,
 "nbformat_minor": 4
}
