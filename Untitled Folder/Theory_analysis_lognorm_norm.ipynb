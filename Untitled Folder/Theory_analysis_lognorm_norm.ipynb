{
 "cells": [
  {
   "cell_type": "code",
   "execution_count": 1,
   "metadata": {},
   "outputs": [],
   "source": [
    "%matplotlib inline\n",
    "import numpy as np\n",
    "import matplotlib.pyplot as plt\n",
    "from scipy import optimize"
   ]
  },
  {
   "cell_type": "markdown",
   "metadata": {},
   "source": [
    "## MLE solutions of lognorm observation distribution"
   ]
  },
  {
   "cell_type": "code",
   "execution_count": 5,
   "metadata": {},
   "outputs": [
    {
     "data": {
      "text/plain": [
       "<matplotlib.colorbar.Colorbar at 0x2204737ee88>"
      ]
     },
     "execution_count": 5,
     "metadata": {},
     "output_type": "execute_result"
    },
    {
     "data": {
      "image/png": "[encoded data removed]",
      "text/plain": [
       "<Figure size 432x288 with 2 Axes>"
      ]
     },
     "metadata": {
      "needs_background": "light"
     },
     "output_type": "display_data"
    }
   ],
   "source": [
    "def f(xt, xb, y, sigma2b):\n",
    "    s = y + np.sqrt(2) - xt\n",
    "    return s - np.exp(-np.log(2)**2 - (s**2 + (xb-y-np.sqrt(2))*s) * (np.log(2)/sigma2b)**2)\n",
    "\n",
    "sibma2b = 4\n",
    "Xb, Y = np.meshgrid(np.arange(-40, 40, 1), np.arange(-40, 40, 1))\n",
    "Xt_lognorm = []\n",
    "for xb, y in np.vstack([Xb.ravel(), Y.ravel()]).T:\n",
    "    Xt_lognorm.append(optimize.root(lambda x: f(x, xb, y, sibma2b), [10]).x)\n",
    "    \n",
    "Xt_lognorm = np.reshape(Xt_lognorm, Xb.shape)\n",
    "\n",
    "plt.contourf(Xb, Y, Xt_lognorm)\n",
    "plt.colorbar()"
   ]
  },
  {
   "cell_type": "markdown",
   "metadata": {},
   "source": [
    "## MLE solutions of observation normal distribution"
   ]
  },
  {
   "cell_type": "code",
   "execution_count": 6,
   "metadata": {},
   "outputs": [
    {
     "data": {
      "text/plain": [
       "<matplotlib.colorbar.Colorbar at 0x22047460188>"
      ]
     },
     "execution_count": 6,
     "metadata": {},
     "output_type": "execute_result"
    },
    {
     "data": {
      "image/png": "[encoded data removed]",
      "text/plain": [
       "<Figure size 432x288 with 2 Axes>"
      ]
     },
     "metadata": {
      "needs_background": "light"
     },
     "output_type": "display_data"
    }
   ],
   "source": [
    "sigma2b = 4\n",
    "Xb, Y = np.meshgrid(np.arange(-40, 40, 1), np.arange(-40, 40, 1))\n",
    "Xt_norm = []\n",
    "for xb, y in np.vstack([Xb.ravel(), Y.ravel()]).T:\n",
    "    xt = (xb / sigma2b**2 + y / 2) / (1 / sigma2b + 1 / 2)\n",
    "    Xt_norm.append(xt)\n",
    "    \n",
    "Xt_norm = np.reshape(Xt_norm, Xb.shape)\n",
    "\n",
    "plt.contourf(Xb, Y, Xt_norm, levels=np.arange(-40, 60, 10))\n",
    "plt.colorbar()"
   ]
  },
  {
   "cell_type": "code",
   "execution_count": null,
   "metadata": {},
   "outputs": [],
   "source": []
  },
  {
   "cell_type": "markdown",
   "metadata": {},
   "source": [
    "### different between these two"
   ]
  },
  {
   "cell_type": "code",
   "execution_count": 40,
   "metadata": {},
   "outputs": [
    {
     "data": {
      "text/plain": [
       "<matplotlib.colorbar.Colorbar at 0x2204d76b1c8>"
      ]
     },
     "execution_count": 40,
     "metadata": {},
     "output_type": "execute_result"
    },
    {
     "data": {
      "image/png": "[encoded data removed]",
      "text/plain": [
       "<Figure size 432x288 with 2 Axes>"
      ]
     },
     "metadata": {
      "needs_background": "light"
     },
     "output_type": "display_data"
    }
   ],
   "source": [
    "import matplotlib as mpl\n",
    "\n",
    "class MidpointNormalize(mpl.colors.Normalize):\n",
    "    \"\"\"Normalise the colorbar.\"\"\"\n",
    "    def __init__(self, vmin=None, vmax=None, midpoint=None, clip=False):\n",
    "        self.midpoint = midpoint\n",
    "        mpl.colors.Normalize.__init__(self, vmin, vmax, clip)\n",
    "\n",
    "    def __call__(self, value, clip=None):\n",
    "        x, y = [self.vmin, self.midpoint, self.vmax], [0, 0.5, 1]\n",
    "        return np.ma.masked_array(np.interp(value, x, y), np.isnan(value))\n",
    "\n",
    "\n",
    "diff = Xt_norm - Xt_lognorm\n",
    "#cs = plt.contour(Xb, Y, diff, colors='k', levels=np.arange(-75, 50, 5))\n",
    "#plt.clabel(cs, np.arange(-10, 10+5, 5))\n",
    "plt.contourf(Xb, Y, diff, cmap='bwr', norm=MidpointNormalize(-75, 45, 0), levels=np.arange(-75, 50, 5))\n",
    "plt.colorbar()"
   ]
  },
  {
   "cell_type": "code",
   "execution_count": null,
   "metadata": {},
   "outputs": [],
   "source": []
  },
  {
   "cell_type": "code",
   "execution_count": null,
   "metadata": {},
   "outputs": [],
   "source": []
  }
 ],
 "metadata": {
  "kernelspec": {
   "display_name": "Python 3",
   "language": "python",
   "name": "python3"
  },
  "language_info": {
   "codemirror_mode": {
    "name": "ipython",
    "version": 3
   },
   "file_extension": ".py",
   "mimetype": "text/x-python",
   "name": "python",
   "nbconvert_exporter": "python",
   "pygments_lexer": "ipython3",
   "version": "3.7.4"
  }
 },
 "nbformat": 4,
 "nbformat_minor": 4
}
