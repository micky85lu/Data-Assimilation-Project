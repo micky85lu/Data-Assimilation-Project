{
 "cells": [
  {
   "cell_type": "code",
   "execution_count": 1,
   "metadata": {},
   "outputs": [],
   "source": [
    "%matplotlib inline\n",
    "import pickle\n",
    "import numpy as np"
   ]
  },
  {
   "cell_type": "code",
   "execution_count": 10,
   "metadata": {},
   "outputs": [
    {
     "data": {
      "text/plain": [
       "(3, 1600)"
      ]
     },
     "execution_count": 10,
     "metadata": {},
     "output_type": "execute_result"
    }
   ],
   "source": [
    "X_nature = np.load('./data/X_nature.npy')\n",
    "X_ini = np.load('./data/X_ini.npy')\n",
    "ts = np.load('./data/time_span.npy')\n",
    "Pb = np.load('./data/Pb.npy')\n",
    "R = np.load('./data/R.npy')\n",
    "\n",
    "dt = 0.01\n",
    "ndim = X_nature.shape[0]\n",
    "\n",
    "X_nature.shape"
   ]
  },
  {
   "cell_type": "markdown",
   "metadata": {},
   "source": [
    "### Normal observation"
   ]
  },
  {
   "cell_type": "code",
   "execution_count": 11,
   "metadata": {},
   "outputs": [],
   "source": [
    "obs_var = 2\n",
    "\n",
    "# assimilation window length, forecast length (unit: time step)\n",
    "win_len = 6\n",
    "fcs_len = 10\n",
    "# how many assimilation windows. (win_len+fcs_len) * win_num = ts.size\n",
    "win_num = ts.size // (win_len+fcs_len)"
   ]
  },
  {
   "cell_type": "code",
   "execution_count": 11,
   "metadata": {},
   "outputs": [
    {
     "data": {
      "text/plain": [
       "(3, 1600)"
      ]
     },
     "execution_count": 11,
     "metadata": {},
     "output_type": "execute_result"
    }
   ],
   "source": [
    "X_obserr = np.zeros_like(X_nature)\n",
    "for i in range(3):\n",
    "    obs = np.random.normal(scale=np.sqrt(obs_var), size=win_len*win_num).reshape((-1, win_len))\n",
    "    obs = np.hstack([obs, np.zeros((fcs_len*win_num)).reshape((-1, fcs_len))])\n",
    "    obs = obs.ravel()\n",
    "    X_obserr[i,:] = obs\n",
    "    \n",
    "idx = np.all(X_obserr != 0, axis=0)\n",
    "X_nature_tmp = X_nature.copy()\n",
    "X_nature_tmp[:,idx] = 0\n",
    "X_obs = X_nature - X_nature_tmp + X_obserr\n",
    "X_obs.shape"
   ]
  },
  {
   "cell_type": "code",
   "execution_count": 13,
   "metadata": {},
   "outputs": [],
   "source": [
    "np.save('./data/4DVar/obs_normal', X_obs)"
   ]
  },
  {
   "cell_type": "code",
   "execution_count": null,
   "metadata": {},
   "outputs": [],
   "source": []
  },
  {
   "cell_type": "markdown",
   "metadata": {},
   "source": [
    "### Bias"
   ]
  },
  {
   "cell_type": "code",
   "execution_count": 15,
   "metadata": {},
   "outputs": [],
   "source": [
    "experiments = [\n",
    "    [0.05, 0.15, 0.2, 0.25, 0.3, 0.35, 0.4],\n",
    "    np.arange(0.2, 5.2+0.25, 0.25)\n",
    "]\n",
    "ex_filenames = ['obs_bias_005_040', 'obs_bias_020_520']\n",
    "\n",
    "for ex_fn, ex_mean in zip(ex_filenames, experiments):\n",
    "    ex_obs_dict = {}\n",
    "    \n",
    "    for ex_m in ex_mean:\n",
    "        obs_mean = [ex_m for _ in range(ndim)]\n",
    "        obs_var = [2 for _ in range(ndim)]\n",
    "\n",
    "        X_obs_err = np.zeros((ndim, ts.size))\n",
    "        for irow, (obsm, obsv) in enumerate(zip(obs_mean, obs_var)):\n",
    "            obs = np.random.normal(loc=obsm, scale=np.sqrt(obsv), size=win_len*win_num).reshape((-1, win_len))\n",
    "            obs = np.hstack([obs, np.zeros((fcs_len*win_num)).reshape((-1, fcs_len))])\n",
    "            obs = obs.ravel()\n",
    "            X_obserr[irow,:] = obs\n",
    "\n",
    "        idx = np.all(X_obserr != 0, axis=0)\n",
    "        X_nature_tmp = X_nature.copy()\n",
    "        X_nature_tmp[:,idx] = 0\n",
    "        ex_obs = X_nature - X_nature_tmp + X_obserr\n",
    "\n",
    "        key = f'{ex_m:4.2f}'\n",
    "        ex_obs_dict[key] = ex_obs\n",
    "    \n",
    "    # save file\n",
    "    fullfn = f'./data/4DVar/{ex_fn}.pickle'\n",
    "    pickle.dump(ex_obs_dict, open(fullfn, 'wb'))"
   ]
  },
  {
   "cell_type": "code",
   "execution_count": null,
   "metadata": {},
   "outputs": [],
   "source": []
  },
  {
   "cell_type": "markdown",
   "metadata": {},
   "source": [
    "### Skew"
   ]
  },
  {
   "cell_type": "code",
   "execution_count": 20,
   "metadata": {},
   "outputs": [],
   "source": [
    "from scipy.stats import skewnorm\n",
    "\n",
    "\n",
    "def tskew(alpha):\n",
    "    \"\"\"calculate theoretical skewness of given alpha\"\"\"\n",
    "    d = alpha / np.sqrt(1+alpha**2)\n",
    "    return (4-np.pi)/2 * (d*np.sqrt(2/np.pi)) ** 3 / (1-2*d**2/np.pi) ** (3/2)\n",
    "\n",
    "def gen_skewnormal(mean, var, alpha, size, random_state=None):\n",
    "    \"\"\"generate random number by skewnorm, and adjust them into given mean and variance\"\"\"\n",
    "    # generate standard skew normal distribution\n",
    "    X = skewnorm.rvs(alpha, loc=0, scale=1, size=size, random_state=random_state)\n",
    "    \n",
    "    # theory expectation value (mean) and variance of standard skew normal distribution\n",
    "    tmean = np.sqrt(2/np.pi) * alpha / np.sqrt(1+alpha**2)\n",
    "    tvar = 1 - 2/np.pi * alpha**2 / (1+alpha**2)\n",
    "\n",
    "    # adjust var, then adjust mean\n",
    "    X = np.sqrt(var/tvar) * X\n",
    "    tmean = np.sqrt(var/tvar) * np.sqrt(2/np.pi) * alpha / np.sqrt(1+alpha**2)\n",
    "    X = X + mean - tmean\n",
    "    \n",
    "    return X\n",
    "\n",
    "\n",
    "experiment = [\n",
    "    [0.15, 0.45, 0.75, 1.05, 1.35],\n",
    "    [1.3, 1.55, 1.8, 2.05, 2.3, 2.55, 2.8, 3.05, 3.3]\n",
    "]\n",
    "filenames = ['obs_skew_015_135', 'obs_skew_130_330']\n",
    "\n",
    "for ex_alpha, filename in zip(experiment, filenames):\n",
    "    ex_obs_dict = {}\n",
    "    \n",
    "    for ex_a in ex_alpha:\n",
    "        obs_mean = [0 for _ in range(ndim)]\n",
    "        obs_var = [2 for _ in range(ndim)]\n",
    "\n",
    "        X_obs_err = np.zeros((ndim, ts.size))\n",
    "        for irow, (obsm, obsv) in enumerate(zip(obs_mean, obs_var)):\n",
    "            # generate observations\n",
    "            skew_obs = gen_skewnormal(obsm, obsv, ex_a, size=win_len*win_num).reshape((-1, win_len))\n",
    "            skew_obs = np.hstack([skew_obs, np.zeros((fcs_len*win_num)).reshape((-1, fcs_len))])\n",
    "            skew_obs = skew_obs.ravel()\n",
    "            X_obserr[irow,:] = skew_obs\n",
    "\n",
    "        idx = np.all(X_obserr != 0, axis=0)\n",
    "        X_nature_tmp = X_nature.copy()\n",
    "        X_nature_tmp[:,idx] = 0\n",
    "        ex_obs = X_nature - X_nature_tmp + X_obserr\n",
    "\n",
    "        key = f'{ex_a:4.2f}'\n",
    "        ex_obs_dict[key] = ex_obs\n",
    "\n",
    "    # save\n",
    "    fullfn = f'./data/4DVar/{filename}.pickle'\n",
    "    pickle.dump(ex_obs_dict, open(fullfn, 'wb'))"
   ]
  },
  {
   "cell_type": "code",
   "execution_count": null,
   "metadata": {},
   "outputs": [],
   "source": []
  },
  {
   "cell_type": "markdown",
   "metadata": {},
   "source": [
    "### kurtosis"
   ]
  },
  {
   "cell_type": "code",
   "execution_count": 32,
   "metadata": {},
   "outputs": [],
   "source": [
    "from scipy.stats import kurtosis\n",
    "from scipy.special import erf, erfinv\n",
    "\n",
    "\n",
    "def invcdf(x, mean, var, epsilon, delta):\n",
    "    \"\"\"inverse CDF of sinh-arcsinh transform of normal distrubution\"\"\"\n",
    "    return np.sinh(epsilon/delta + 1/delta * np.arcsinh(mean + np.sqrt(2*var) * erfinv(2*x-1)))\n",
    "\n",
    "def gen_kurtosis_normal(size, mean, var, epsilon, delta):\n",
    "    u = np.random.rand(size)\n",
    "    samples = invcdf(u, mean, var, epsilon, delta)\n",
    "    return samples\n",
    "\n",
    "def est_tvar(delta, size=1000, times=1000):\n",
    "    \"\"\"estimate theory variance\"\"\"\n",
    "    variances = np.zeros((times,))\n",
    "    for i in range(times):\n",
    "        u = np.random.rand(size)\n",
    "        samples = invcdf(u, 0, 2, 0, delta)\n",
    "        variances[i] = samples.var()\n",
    "    return np.mean(variances)\n",
    "\n",
    "\n",
    "ex1_delta = [\n",
    "    0.5, 0.6, 0.7, 0.8,    # reject H0 \n",
    "    0.9, 1.2,              # accept H0\n",
    "    1.6, 1.8, 2, 2.2       # reject H0\n",
    "]\n",
    "filename1 = 'obs_kurtosis_050_220'\n",
    "ex2_delta = [0.1, 0.2, 0.3, 0.4, 2.5, 2.8, 3.1, 3.4]\n",
    "filename2 = 'obs_kurtosis_010_340'\n",
    "\n",
    "experiment = [ex1_delta, ex2_delta]\n",
    "filenames = [filename1, filename2]\n",
    "\n",
    "for ex_delta, filename in zip(experiment, filenames):\n",
    "    ex_obs_dict = {}\n",
    "\n",
    "    for ex_d in ex_delta:\n",
    "        obs_mean = [0 for _ in range(ndim)]\n",
    "        obs_var = [2 for _ in range(ndim)]\n",
    "          \n",
    "        X_obs_err = np.zeros((ndim, ts.size))\n",
    "        for irow, (obsm, obsv) in enumerate(zip(obs_mean, obs_var)):\n",
    "            # generate observations\n",
    "            #kurt_obs = gen_skewnormal(obsm, obsv, ex_a, size=win_len*win_num).reshape((-1, win_len))\n",
    "            kurt_obs = gen_kurtosis_normal(win_len*win_num, obsm, obsv, 0, ex_d)\n",
    "            kurt_obs = kurt_obs * np.sqrt(obsv / est_tvar(ex_d))\n",
    "            kurt_obs = kurt_obs.reshape((-1, win_len))\n",
    "            kurt_obs = np.hstack([kurt_obs, np.zeros((fcs_len*win_num)).reshape((-1, fcs_len))])\n",
    "            kurt_obs = kurt_obs.ravel()\n",
    "            X_obserr[irow,:] = kurt_obs\n",
    "\n",
    "        idx = np.all(X_obserr != 0, axis=0)\n",
    "        X_nature_tmp = X_nature.copy()\n",
    "        X_nature_tmp[:,idx] = 0\n",
    "        ex_obs = X_nature - X_nature_tmp + X_obserr\n",
    "\n",
    "        key = f'{ex_d:4.2f}'\n",
    "        ex_obs_dict[key] = ex_obs\n",
    "\n",
    "    # save\n",
    "    fullfn = f'./data/4DVar/{filename}.pickle'\n",
    "    pickle.dump(ex_obs_dict, open(fullfn, 'wb'))"
   ]
  },
  {
   "cell_type": "code",
   "execution_count": null,
   "metadata": {},
   "outputs": [],
   "source": []
  },
  {
   "cell_type": "code",
   "execution_count": null,
   "metadata": {},
   "outputs": [],
   "source": []
  },
  {
   "cell_type": "code",
   "execution_count": null,
   "metadata": {},
   "outputs": [],
   "source": []
  }
 ],
 "metadata": {
  "kernelspec": {
   "display_name": "Python 3",
   "language": "python",
   "name": "python3"
  },
  "language_info": {
   "codemirror_mode": {
    "name": "ipython",
    "version": 3
   },
   "file_extension": ".py",
   "mimetype": "text/x-python",
   "name": "python",
   "nbconvert_exporter": "python",
   "pygments_lexer": "ipython3",
   "version": "3.7.4"
  }
 },
 "nbformat": 4,
 "nbformat_minor": 4
}
