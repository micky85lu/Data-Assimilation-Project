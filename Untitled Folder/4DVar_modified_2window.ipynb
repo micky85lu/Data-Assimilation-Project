{
 "cells": [
  {
   "cell_type": "code",
   "execution_count": 1,
   "metadata": {},
   "outputs": [],
   "source": [
    "%matplotlib inline\n",
    "import numpy as np\n",
    "import matplotlib.pyplot as plt\n",
    "\n",
    "from model import lorenz63_fdm, M63"
   ]
  },
  {
   "cell_type": "code",
   "execution_count": 17,
   "metadata": {},
   "outputs": [],
   "source": [
    "X_nature = np.load('./data/X_nature.npy')\n",
    "X_ini = np.load('./data/X_ini.npy')\n",
    "Pb = np.load('./data/Pb.npy')\n",
    "R = np.load('./data/R.npy')\n",
    "\n",
    "dt = 0.01\n",
    "\n",
    "def RMSE(forecast, nature):\n",
    "    return np.sqrt(np.mean((forecast-nature)**2, axis=0))"
   ]
  },
  {
   "cell_type": "code",
   "execution_count": 18,
   "metadata": {},
   "outputs": [
    {
     "data": {
      "text/plain": [
       "array([[ 0.        ,  0.        ,  0.        , -1.97406929,  0.        ,\n",
       "         0.        ,  0.        ,  0.        ,  0.        ,  0.        ,\n",
       "         0.        , -3.19655482,  0.        ,  0.        ,  0.        ,\n",
       "         0.        ],\n",
       "       [ 0.        ,  0.        ,  0.        ,  0.24065875,  0.        ,\n",
       "         0.        ,  0.        ,  0.        ,  0.        ,  0.        ,\n",
       "         0.        , -1.00629413,  0.        ,  0.        ,  0.        ,\n",
       "         0.        ],\n",
       "       [ 0.        ,  0.        ,  0.        , 20.27969182,  0.        ,\n",
       "         0.        ,  0.        ,  0.        ,  0.        ,  0.        ,\n",
       "         0.        , 18.82268161,  0.        ,  0.        ,  0.        ,\n",
       "         0.        ]])"
      ]
     },
     "execution_count": 18,
     "metadata": {},
     "output_type": "execute_result"
    }
   ],
   "source": [
    "nature = X_nature[:,:16]\n",
    "obs = np.sqrt(2) * np.random.randn(*nature.shape) + nature\n",
    "obs_tmp = obs.copy()\n",
    "obs_tmp[:,3::8] = 0\n",
    "obs -= obs_tmp\n",
    "obs"
   ]
  },
  {
   "cell_type": "code",
   "execution_count": 19,
   "metadata": {},
   "outputs": [
    {
     "data": {
      "text/plain": [
       "[(0, 3, 3), (8, 11, 11)]"
      ]
     },
     "execution_count": 19,
     "metadata": {},
     "output_type": "execute_result"
    }
   ],
   "source": [
    "def _find_window_range(towindow_len, window_len, forecast_len, window_num):\n",
    "    \"\"\"\n",
    "    return example: [(0, 3, 6), (10, 13, 16), ...]\n",
    "    -> First assimilation: initial time at 0'th timestamp, assimilation window start at 3'rd \n",
    "    timestamp, and assimilation window end at 6'th timestamp.\n",
    "    -> Second assimilation: initial time at 10'th timestamp, assimilation window start at 13'rd\n",
    "    timestamp, and assimilation window end at 16'th timestamp.\n",
    "    \"\"\"\n",
    "    tol_len = towindow_len + window_len + forecast_len\n",
    "    win_range = []\n",
    "    for iwin in range(window_num):\n",
    "        ini_time = tol_len * iwin\n",
    "        win_start = ini_time + towindow_len\n",
    "        win_end = win_start + window_len - 1\n",
    "        locations = (ini_time, win_start, win_end)\n",
    "        win_range.append(locations)\n",
    "        \n",
    "    return win_range\n",
    "\n",
    "win_range = _find_window_range(3, 1, 4, 2)\n",
    "win_range"
   ]
  },
  {
   "cell_type": "code",
   "execution_count": 21,
   "metadata": {},
   "outputs": [],
   "source": [
    "obserr = np.random.multivariate_normal([0, 0, 0], R, size=nature.shape[1]).T\n",
    "obs = nature + obserr\n",
    "obs_tmp = obs.copy()\n",
    "obs_tmp[:,3::8] = 0\n",
    "obs -= obs_tmp\n",
    "\n",
    "towindow_len = 3\n",
    "window_num = 200\n",
    "window_len = 1\n",
    "forecast_len = 4\n",
    "H_func= lambda arr: arr\n",
    "H = np.eye(3)\n",
    "M = lambda x: M63(x, dt)"
   ]
  },
  {
   "cell_type": "code",
   "execution_count": 23,
   "metadata": {},
   "outputs": [],
   "source": [
    "analysis = np.zeros_like(obs)"
   ]
  },
  {
   "cell_type": "code",
   "execution_count": 25,
   "metadata": {},
   "outputs": [],
   "source": [
    "def _gradient_4dvar_costfunction(x, xb, xtrac, yo, Pb, R, M, H_func=None, H=None):\n",
    "    \"\"\"\n",
    "    x, xb: (ndim, 1)\n",
    "    xtrac: (ndim, window)\n",
    "    Pb: (ndim, ndim)\n",
    "    yo: (N, window)\n",
    "    R: (window, N, N)\n",
    "    H_func: (window,)\n",
    "    M: (window, ndim, ndim)\n",
    "    H: (window, N, ndim)\n",
    "    \"\"\"\n",
    "    No, assim_window_len = yo.shape\n",
    "    if H_func is None:\n",
    "        H_func = [lambda arr: arr for _ in range(assim_window_len)]\n",
    "        H = np.concatenate([np.eye(No)[np.newaxis] for i in range(assim_window_len)])\n",
    "    part1 = np.linalg.inv(Pb) @ (x-xb)\n",
    "    part2 = np.zeros_like(part1)\n",
    "    for j in range(assim_window_len):\n",
    "        yj = yo[:,[j]]\n",
    "        Mj = M[j,:,:]\n",
    "        Hj = H[j,:,:]\n",
    "        Rj = R[j,:,:]\n",
    "        H_fj = H_func[j]\n",
    "        xtracj = xtrac[:,[j]]\n",
    "        part2 += Mj.T @ Hj.T @ np.linalg.inv(Rj) @ (yj - H_fj(xtracj))\n",
    "    return part1 - part2"
   ]
  },
  {
   "cell_type": "code",
   "execution_count": 53,
   "metadata": {},
   "outputs": [
    {
     "name": "stdout",
     "output_type": "stream",
     "text": [
      "0\n",
      "[[13.42577381]\n",
      " [11.52981358]\n",
      " [34.57606458]]\n",
      "[[ 4.65164964]\n",
      " [ 0.96071859]\n",
      " [28.87824351]]\n",
      "1\n",
      "[[ 2.72816751]\n",
      " [ 1.15505495]\n",
      " [24.12616137]]\n",
      "[[ 0.6692204 ]\n",
      " [-1.40131093]\n",
      " [21.68777131]]\n"
     ]
    }
   ],
   "source": [
    "xb = X_ini\n",
    "\n",
    "for iwin, (ini_time, start_win, end_win) in enumerate(win_range):\n",
    "    print(iwin)\n",
    "    \n",
    "    tol_len = towindow_len + window_len\n",
    "    ts = np.linspace(0, (tol_len-1)*dt, tol_len)\n",
    "    x = xb.copy()\n",
    "    \n",
    "    if R.ndim == 2:\n",
    "        R = np.concatenate([R[np.newaxis,:,:] for i in range(window_len)])\n",
    "        \n",
    "    o = obs[:,start_win:end_win+1]\n",
    "    \n",
    "    ######################### analysis ######\n",
    "    H_func_list = [H_func for _ in range(window_len)]\n",
    "    H_list = np.stack([H for _ in range(window_len)])\n",
    "    \n",
    "    maxiter = 1000\n",
    "    for _ in range(maxiter):\n",
    "        x_forecast = lorenz63_fdm(x.ravel(), ts)\n",
    "        \n",
    "        Ms = []\n",
    "        m = np.eye(3)\n",
    "        for i in range(towindow_len):\n",
    "            m = M63(x_forecast[:,i], dt) @ m\n",
    "            \n",
    "        for i in range(window_len):\n",
    "            m = M63(x_forecast[:,i+towindow_len], dt) @ m\n",
    "            Ms.append(m)\n",
    "        Ms = np.stack(Ms)\n",
    "        \n",
    "        r = 0.01\n",
    "        gradient = _gradient_4dvar_costfunction(x, xb, x_forecast, o, Pb, R, Ms, H_func_list, H_list)\n",
    "        x_new = x - r * gradient\n",
    "        \n",
    "        epsilon = 0.0001\n",
    "        if np.linalg.norm(gradient) <= epsilon:\n",
    "            x = x_new\n",
    "            break\n",
    "        else:\n",
    "            x = x_new\n",
    "    #########################################\n",
    "    \n",
    "    xa_trajectory = lorenz63_fdm(x.ravel(), ts)\n",
    "    xa = xa_trajectory[:,[-1]]\n",
    "    analysis[:, ini_time:end_win+1] = xa_trajectory\n",
    "    \n",
    "    if iwin != len(win_range) - 1:\n",
    "        forecast_start = end_win\n",
    "        forecast_end = win_range[iwin+1][0] - 1\n",
    "    else:\n",
    "        forecast_start = end_win\n",
    "        forecast_end = obs.shape[1] - 1\n",
    "        \n",
    "    forecast_len = forecast_end - forecast_start + 1\n",
    "    ts = np.linspace(0, (forecast_len-1)*dt, forecast_len)\n",
    "    xa_forecast = lorenz63_fdm(xa.ravel(), ts)\n",
    "    analysis[:, forecast_start:forecast_end+1] = xa_forecast\n",
    "    xb = xa_forecast[:,[-1]]"
   ]
  },
  {
   "cell_type": "code",
   "execution_count": 54,
   "metadata": {},
   "outputs": [
    {
     "data": {
      "image/png": "[encoded data removed]",
      "text/plain": [
       "<Figure size 576x432 with 3 Axes>"
      ]
     },
     "metadata": {
      "needs_background": "light"
     },
     "output_type": "display_data"
    }
   ],
   "source": [
    "ttt = np.arange(0, nature.shape[1], 1)\n",
    "\n",
    "fig, axs = plt.subplots(nrows=3, figsize=(8, 6))\n",
    "for i in range(3):\n",
    "    axs[i].plot(ttt, analysis[i,:], '.-', label='analysis')\n",
    "    axs[i].plot(ttt, nature[i,:], '.-', label='nature')\n",
    "    \n",
    "    idx = np.all(obs != 0, axis=0)\n",
    "    axs[i].plot(ttt[idx], obs[i,idx], 'o')\n",
    "axs[0].legend();"
   ]
  },
  {
   "cell_type": "code",
   "execution_count": null,
   "metadata": {},
   "outputs": [],
   "source": []
  }
 ],
 "metadata": {
  "kernelspec": {
   "display_name": "Python 3",
   "language": "python",
   "name": "python3"
  },
  "language_info": {
   "codemirror_mode": {
    "name": "ipython",
    "version": 3
   },
   "file_extension": ".py",
   "mimetype": "text/x-python",
   "name": "python",
   "nbconvert_exporter": "python",
   "pygments_lexer": "ipython3",
   "version": "3.7.4"
  }
 },
 "nbformat": 4,
 "nbformat_minor": 4
}
