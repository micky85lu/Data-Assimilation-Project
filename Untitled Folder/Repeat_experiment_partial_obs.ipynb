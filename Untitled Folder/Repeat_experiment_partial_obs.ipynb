{
 "cells": [
  {
   "cell_type": "code",
   "execution_count": 1,
   "metadata": {},
   "outputs": [],
   "source": [
    "%matplotlib inline\n",
    "import numpy as np\n",
    "import matplotlib.pyplot as plt\n",
    "\n",
    "from model import lorenz63_fdm, M63\n",
    "from assimilation import OI, ExtendedKF, M3DVar, EnKF, Hybrid3DEnVar"
   ]
  },
  {
   "cell_type": "code",
   "execution_count": 2,
   "metadata": {},
   "outputs": [],
   "source": [
    "X_nature = np.load('./data/X_nature.npy')\n",
    "X_ini = np.load('./data/X_ini.npy')\n",
    "ts = np.load('./data/time_span.npy')\n",
    "Pb = np.load('./data/Pb.npy')\n",
    "R = np.load('./data/R.npy')\n",
    "\n",
    "dt = 0.01\n",
    "\n",
    "# generate initial ensemble\n",
    "N_ens = 30\n",
    "rng = np.random.RandomState(42)\n",
    "X_ens_ini = rng.multivariate_normal(X_ini.ravel(), Pb, size=N_ens).T  # (3, N_ens)"
   ]
  },
  {
   "cell_type": "code",
   "execution_count": 20,
   "metadata": {},
   "outputs": [],
   "source": [
    "obs_intv = 8\n",
    "\n",
    "enkf_params = {\n",
    "    'X_ens_ini': X_ens_ini, \n",
    "    'obs_interv': obs_intv, \n",
    "    'alpha': 0.3,\n",
    "    'inflat': 1.4\n",
    "}\n",
    "\n",
    "ekf_params = {\n",
    "    'X_ini': X_ini,\n",
    "    'obs_interv': obs_intv,\n",
    "    'Pb': Pb,\n",
    "    'M': lambda X: M63(X.ravel(), dt),\n",
    "    'alpha': 0.3,\n",
    "    'inflat': 1.4\n",
    "}\n",
    "\n",
    "tdv_params = {\n",
    "    'X_ini': X_ini,\n",
    "    'obs_interv': obs_intv,\n",
    "    'Pb': Pb,\n",
    "}\n",
    "\n",
    "hy3denvar_params = {\n",
    "    'X_ini': X_ini,\n",
    "    'X_ens_ini': X_ens_ini,\n",
    "    'obs_interv': obs_intv,\n",
    "    'Pb': Pb,\n",
    "    'alpha': 0.2,\n",
    "    'inflat': 1.6,\n",
    "    'beta': 0.5\n",
    "}\n",
    "\n",
    "da_params = {\n",
    "    'enkf': enkf_params,\n",
    "    'ekf': ekf_params,\n",
    "    '3dvar': tdv_params,\n",
    "    '3denvar': hy3denvar_params\n",
    "}"
   ]
  },
  {
   "cell_type": "code",
   "execution_count": null,
   "metadata": {},
   "outputs": [],
   "source": []
  },
  {
   "cell_type": "markdown",
   "metadata": {},
   "source": [
    "# Skewness: alpha=1.30~3.30"
   ]
  },
  {
   "cell_type": "code",
   "execution_count": 21,
   "metadata": {},
   "outputs": [],
   "source": [
    "from scipy.stats import skewnorm\n",
    "\n",
    "def gen_skewnormal(mean, var, alpha, size, random_state=None):\n",
    "    \"\"\"generate random number by skewnorm, and adjust them into given mean and variance\"\"\"\n",
    "    # generate standard skew normal distribution\n",
    "    X = skewnorm.rvs(alpha, loc=0, scale=1, size=size, random_state=random_state)\n",
    "    \n",
    "    # theory expectation value (mean) and variance of standard skew normal distribution\n",
    "    tmean = np.sqrt(2/np.pi) * alpha / np.sqrt(1+alpha**2)\n",
    "    tvar = 1 - 2/np.pi * alpha**2 / (1+alpha**2)\n",
    "\n",
    "    # adjust var, then adjust mean\n",
    "    X = np.sqrt(var/tvar) * X\n",
    "    tmean = np.sqrt(var/tvar) * np.sqrt(2/np.pi) * alpha / np.sqrt(1+alpha**2)\n",
    "    X = X + mean - tmean\n",
    "    \n",
    "    return X\n",
    "\n",
    "def gen_skewobs(nature, mean, var, alpha, obs_intv, random_state=None):\n",
    "    \"\"\"generate skew observations\"\"\"\n",
    "    ndim, size = nature.shape\n",
    "    \n",
    "    if isinstance(mean, (int, float)):\n",
    "        mean = [mean for _ in range(ndim)]\n",
    "    if isinstance(var, (int, float)):\n",
    "        var = [var for _ in range(ndim)]\n",
    "    if isinstance(alpha, (int, float)):\n",
    "        alpha = [alpha for _ in range(ndim)]\n",
    "        \n",
    "    if random_state is None:\n",
    "        random_state = [np.random.randint(0, 100) for _ in range(ndim)]\n",
    "    \n",
    "    obs = np.zeros((ndim, size//obs_intv))\n",
    "    for irow, (m, v, a, rst) in enumerate(zip(mean, var, alpha, random_state)):\n",
    "        samples = gen_skewnormal(m, v, a, size, rst)\n",
    "        #samples_tmp = samples.copy()\n",
    "        #samples_tmp[::obs_intv] = 0\n",
    "        #samples = samples - samples_tmp\n",
    "        obs[irow,:] = (nature[irow,:] + samples)[::obs_intv]\n",
    "        \n",
    "    return obs"
   ]
  },
  {
   "cell_type": "code",
   "execution_count": 42,
   "metadata": {},
   "outputs": [],
   "source": [
    "def assim_exp(var):\n",
    "    alphas = [1.30, 1.55, 1.80, 2.05, 2.30, 2.55, 2.80, 3.05, 3.30]\n",
    "\n",
    "    da_schemes = ['enkf', 'ekf', '3dvar', '3denvar']\n",
    "    da_objs = [EnKF, ExtendedKF, M3DVar, Hybrid3DEnVar]\n",
    "\n",
    "    repeat_times = 10\n",
    "    for t in range(repeat_times):\n",
    "        print(t)\n",
    "        random_states = np.random.randint(0, 100, size=(len(alphas), 3))\n",
    "\n",
    "        for da_obj, da_str in zip(da_objs, da_schemes):\n",
    "            for alpha, rsts in zip(alphas, random_states):\n",
    "                print(da_str, alpha)\n",
    "\n",
    "                obs = gen_skewobs(X_nature, 0, 2, alpha, obs_intv, rsts)\n",
    "                if var == 'X':\n",
    "                    obs = obs[[0],:]\n",
    "                    R = np.array([[2]])\n",
    "                    H_func = lambda arr: arr[[0]]\n",
    "                    H = np.array([[1, 0, 0]])\n",
    "                elif var == 'Y':\n",
    "                    obs = obs[[1],:]\n",
    "                    R = np.array([[2]])\n",
    "                    H_func = lambda arr: arr[[1]]\n",
    "                    H = np.array([[0, 1, 0]])\n",
    "                elif var == 'Z':\n",
    "                    obs = obs[[2],:]\n",
    "                    R = np.array([[2]])\n",
    "                    H_func = lambda arr: arr[[2]]\n",
    "                    H = np.array([[0, 0, 1]])\n",
    "\n",
    "                params = da_params[da_str]\n",
    "                params['obs'] = obs\n",
    "                params['R'] = R\n",
    "                params['H_func'] = H_func\n",
    "                if 'H' in params.keys():\n",
    "                    params['H'] = H\n",
    "                    \n",
    "                da = da_obj(lorenz63_fdm, dt)\n",
    "                da.set_params(**params)\n",
    "                da.cycle()\n",
    "\n",
    "                path = './repeat_experiments_partial/' + var\n",
    "                fn = f'{path}/{da_str}_analysis_alpha{alpha*100:03.0f}_t{t}'\n",
    "                if da_str != '3denvar':\n",
    "                    np.save(fn, da.analysis)\n",
    "                else:\n",
    "                    np.save(fn, da.analysis_3dvar)\n",
    "\n",
    "                fn = f'{path}/obs_alpha{alpha*100:03.0f}_t{t}'\n",
    "                np.save(fn, obs)    "
   ]
  },
  {
   "cell_type": "code",
   "execution_count": 43,
   "metadata": {},
   "outputs": [
    {
     "name": "stdout",
     "output_type": "stream",
     "text": [
      "0\n",
      "enkf 1.3\n",
      "enkf 1.55\n",
      "enkf 1.8\n",
      "enkf 2.05\n",
      "enkf 2.3\n",
      "enkf 2.55\n",
      "enkf 2.8\n",
      "enkf 3.05\n",
      "enkf 3.3\n",
      "ekf 1.3\n"
     ]
    },
    {
     "ename": "ValueError",
     "evalue": "matmul: Input operand 1 has a mismatch in its core dimension 0, with gufunc signature (n?,k),(k,m?)->(n?,m?) (size 1 is different from 3)",
     "output_type": "error",
     "traceback": [
      "\u001b[1;31m---------------------------------------------------------------------------\u001b[0m",
      "\u001b[1;31mValueError\u001b[0m                                Traceback (most recent call last)",
      "\u001b[1;32m<ipython-input-43-35f400a528fb>\u001b[0m in \u001b[0;36m<module>\u001b[1;34m\u001b[0m\n\u001b[0;32m      1\u001b[0m \u001b[1;31m# assimilate x only\u001b[0m\u001b[1;33m\u001b[0m\u001b[1;33m\u001b[0m\u001b[1;33m\u001b[0m\u001b[0m\n\u001b[1;32m----> 2\u001b[1;33m \u001b[0massim_exp\u001b[0m\u001b[1;33m(\u001b[0m\u001b[1;34m'X'\u001b[0m\u001b[1;33m)\u001b[0m\u001b[1;33m\u001b[0m\u001b[1;33m\u001b[0m\u001b[0m\n\u001b[0m",
      "\u001b[1;32m<ipython-input-42-b2d937a17534>\u001b[0m in \u001b[0;36massim_exp\u001b[1;34m(var)\u001b[0m\n\u001b[0;32m     40\u001b[0m                 \u001b[0mda\u001b[0m \u001b[1;33m=\u001b[0m \u001b[0mda_obj\u001b[0m\u001b[1;33m(\u001b[0m\u001b[0mlorenz63_fdm\u001b[0m\u001b[1;33m,\u001b[0m \u001b[0mdt\u001b[0m\u001b[1;33m)\u001b[0m\u001b[1;33m\u001b[0m\u001b[1;33m\u001b[0m\u001b[0m\n\u001b[0;32m     41\u001b[0m                 \u001b[0mda\u001b[0m\u001b[1;33m.\u001b[0m\u001b[0mset_params\u001b[0m\u001b[1;33m(\u001b[0m\u001b[1;33m**\u001b[0m\u001b[0mparams\u001b[0m\u001b[1;33m)\u001b[0m\u001b[1;33m\u001b[0m\u001b[1;33m\u001b[0m\u001b[0m\n\u001b[1;32m---> 42\u001b[1;33m                 \u001b[0mda\u001b[0m\u001b[1;33m.\u001b[0m\u001b[0mcycle\u001b[0m\u001b[1;33m(\u001b[0m\u001b[1;33m)\u001b[0m\u001b[1;33m\u001b[0m\u001b[1;33m\u001b[0m\u001b[0m\n\u001b[0m\u001b[0;32m     43\u001b[0m \u001b[1;33m\u001b[0m\u001b[0m\n\u001b[0;32m     44\u001b[0m                 \u001b[0mpath\u001b[0m \u001b[1;33m=\u001b[0m \u001b[1;34m'./repeat_experiments_partial/'\u001b[0m \u001b[1;33m+\u001b[0m \u001b[0mvar\u001b[0m\u001b[1;33m\u001b[0m\u001b[1;33m\u001b[0m\u001b[0m\n",
      "\u001b[1;32m~\\work\\HW\\Data-Assimilation-Project\\Untitled Folder\\assimilation.py\u001b[0m in \u001b[0;36mcycle\u001b[1;34m(self)\u001b[0m\n\u001b[0;32m     97\u001b[0m         \u001b[1;32mfor\u001b[0m \u001b[0mnc\u001b[0m \u001b[1;32min\u001b[0m \u001b[0mrange\u001b[0m\u001b[1;33m(\u001b[0m\u001b[0mcycle_num\u001b[0m\u001b[1;33m)\u001b[0m\u001b[1;33m:\u001b[0m\u001b[1;33m\u001b[0m\u001b[1;33m\u001b[0m\u001b[0m\n\u001b[0;32m     98\u001b[0m             \u001b[1;31m# analysis and forecast\u001b[0m\u001b[1;33m\u001b[0m\u001b[1;33m\u001b[0m\u001b[1;33m\u001b[0m\u001b[0m\n\u001b[1;32m---> 99\u001b[1;33m             \u001b[0mxa\u001b[0m\u001b[1;33m,\u001b[0m \u001b[0mPa\u001b[0m \u001b[1;33m=\u001b[0m \u001b[0mself\u001b[0m\u001b[1;33m.\u001b[0m\u001b[0m_analysis\u001b[0m\u001b[1;33m(\u001b[0m\u001b[0mxb\u001b[0m\u001b[1;33m,\u001b[0m \u001b[0mobs\u001b[0m\u001b[1;33m[\u001b[0m\u001b[1;33m:\u001b[0m\u001b[1;33m,\u001b[0m\u001b[1;33m[\u001b[0m\u001b[0mnc\u001b[0m\u001b[1;33m]\u001b[0m\u001b[1;33m]\u001b[0m\u001b[1;33m,\u001b[0m \u001b[0mPb\u001b[0m\u001b[1;33m,\u001b[0m \u001b[0mR\u001b[0m\u001b[1;33m,\u001b[0m \u001b[0mH_func\u001b[0m\u001b[1;33m,\u001b[0m \u001b[0mH\u001b[0m\u001b[1;33m)\u001b[0m\u001b[1;33m\u001b[0m\u001b[1;33m\u001b[0m\u001b[0m\n\u001b[0m\u001b[0;32m    100\u001b[0m             \u001b[0mx_forecast\u001b[0m \u001b[1;33m=\u001b[0m \u001b[0mmodel\u001b[0m\u001b[1;33m(\u001b[0m\u001b[0mxa\u001b[0m\u001b[1;33m.\u001b[0m\u001b[0mravel\u001b[0m\u001b[1;33m(\u001b[0m\u001b[1;33m)\u001b[0m\u001b[1;33m,\u001b[0m \u001b[0mts\u001b[0m\u001b[1;33m)\u001b[0m\u001b[1;33m\u001b[0m\u001b[1;33m\u001b[0m\u001b[0m\n\u001b[0;32m    101\u001b[0m \u001b[1;33m\u001b[0m\u001b[0m\n",
      "\u001b[1;32m~\\work\\HW\\Data-Assimilation-Project\\Untitled Folder\\assimilation.py\u001b[0m in \u001b[0;36m_analysis\u001b[1;34m(self, xb, yo, Pb, R, H_func, H)\u001b[0m\n\u001b[0;32m     67\u001b[0m             \u001b[0mPa\u001b[0m \u001b[1;33m=\u001b[0m \u001b[1;33m(\u001b[0m\u001b[0mnp\u001b[0m\u001b[1;33m.\u001b[0m\u001b[0meye\u001b[0m\u001b[1;33m(\u001b[0m\u001b[0mlen\u001b[0m\u001b[1;33m(\u001b[0m\u001b[0mxb\u001b[0m\u001b[1;33m)\u001b[0m\u001b[1;33m)\u001b[0m \u001b[1;33m-\u001b[0m \u001b[0mK\u001b[0m\u001b[1;33m)\u001b[0m \u001b[1;33m@\u001b[0m \u001b[0mPb\u001b[0m\u001b[1;33m\u001b[0m\u001b[1;33m\u001b[0m\u001b[0m\n\u001b[0;32m     68\u001b[0m         \u001b[1;32melse\u001b[0m\u001b[1;33m:\u001b[0m\u001b[1;33m\u001b[0m\u001b[1;33m\u001b[0m\u001b[0m\n\u001b[1;32m---> 69\u001b[1;33m             \u001b[0mK\u001b[0m \u001b[1;33m=\u001b[0m \u001b[0mPb\u001b[0m \u001b[1;33m@\u001b[0m \u001b[0mH\u001b[0m\u001b[1;33m.\u001b[0m\u001b[0mT\u001b[0m \u001b[1;33m@\u001b[0m \u001b[0mnp\u001b[0m\u001b[1;33m.\u001b[0m\u001b[0mlinalg\u001b[0m\u001b[1;33m.\u001b[0m\u001b[0minv\u001b[0m\u001b[1;33m(\u001b[0m\u001b[0mH\u001b[0m \u001b[1;33m@\u001b[0m \u001b[0mPb\u001b[0m \u001b[1;33m@\u001b[0m \u001b[0mH\u001b[0m\u001b[1;33m.\u001b[0m\u001b[0mT\u001b[0m \u001b[1;33m+\u001b[0m \u001b[0mR\u001b[0m\u001b[1;33m)\u001b[0m\u001b[1;33m\u001b[0m\u001b[1;33m\u001b[0m\u001b[0m\n\u001b[0m\u001b[0;32m     70\u001b[0m             \u001b[0mxa\u001b[0m \u001b[1;33m=\u001b[0m \u001b[0mxb\u001b[0m \u001b[1;33m+\u001b[0m \u001b[0mK\u001b[0m \u001b[1;33m@\u001b[0m \u001b[1;33m(\u001b[0m\u001b[0myo\u001b[0m \u001b[1;33m-\u001b[0m \u001b[0mH_func\u001b[0m\u001b[1;33m(\u001b[0m\u001b[0mxb\u001b[0m\u001b[1;33m)\u001b[0m\u001b[1;33m)\u001b[0m\u001b[1;33m\u001b[0m\u001b[1;33m\u001b[0m\u001b[0m\n\u001b[0;32m     71\u001b[0m             \u001b[0mPa\u001b[0m \u001b[1;33m=\u001b[0m \u001b[1;33m(\u001b[0m\u001b[0mnp\u001b[0m\u001b[1;33m.\u001b[0m\u001b[0meye\u001b[0m\u001b[1;33m(\u001b[0m\u001b[0mlen\u001b[0m\u001b[1;33m(\u001b[0m\u001b[0mxb\u001b[0m\u001b[1;33m)\u001b[0m\u001b[1;33m)\u001b[0m \u001b[1;33m-\u001b[0m \u001b[0mK\u001b[0m \u001b[1;33m@\u001b[0m \u001b[0mH\u001b[0m\u001b[1;33m)\u001b[0m \u001b[1;33m@\u001b[0m \u001b[0mPb\u001b[0m\u001b[1;33m\u001b[0m\u001b[1;33m\u001b[0m\u001b[0m\n",
      "\u001b[1;31mValueError\u001b[0m: matmul: Input operand 1 has a mismatch in its core dimension 0, with gufunc signature (n?,k),(k,m?)->(n?,m?) (size 1 is different from 3)"
     ]
    }
   ],
   "source": [
    "# assimilate x only\n",
    "assim_exp('X')"
   ]
  },
  {
   "cell_type": "code",
   "execution_count": null,
   "metadata": {},
   "outputs": [],
   "source": []
  },
  {
   "cell_type": "code",
   "execution_count": null,
   "metadata": {},
   "outputs": [],
   "source": []
  },
  {
   "cell_type": "code",
   "execution_count": null,
   "metadata": {},
   "outputs": [],
   "source": []
  },
  {
   "cell_type": "code",
   "execution_count": null,
   "metadata": {},
   "outputs": [],
   "source": []
  },
  {
   "cell_type": "code",
   "execution_count": null,
   "metadata": {},
   "outputs": [],
   "source": []
  },
  {
   "cell_type": "code",
   "execution_count": 48,
   "metadata": {},
   "outputs": [
    {
     "name": "stderr",
     "output_type": "stream",
     "text": [
      "C:\\Users\\ChunYehLu\\work\\HW\\Data-Assimilation-Project\\Untitled Folder\\model.py:25: RuntimeWarning: overflow encountered in double_scalars\n",
      "  y[i] = y[i-1] + (r*x[i-1] - y[i-1] - x[i-1]*z[i-1]) * dt\n",
      "C:\\Users\\ChunYehLu\\work\\HW\\Data-Assimilation-Project\\Untitled Folder\\model.py:26: RuntimeWarning: overflow encountered in double_scalars\n",
      "  z[i] = z[i-1] + (x[i-1]*y[i-1] - b*z[i-1]) * dt\n",
      "C:\\Users\\ChunYehLu\\work\\HW\\Data-Assimilation-Project\\Untitled Folder\\model.py:25: RuntimeWarning: invalid value encountered in double_scalars\n",
      "  y[i] = y[i-1] + (r*x[i-1] - y[i-1] - x[i-1]*z[i-1]) * dt\n",
      "C:\\Users\\ChunYehLu\\work\\HW\\Data-Assimilation-Project\\Untitled Folder\\model.py:26: RuntimeWarning: invalid value encountered in double_scalars\n",
      "  z[i] = z[i-1] + (x[i-1]*y[i-1] - b*z[i-1]) * dt\n"
     ]
    }
   ],
   "source": [
    "X_nature = np.load('./data/X_nature.npy')\n",
    "X_ini = np.load('./data/X_ini.npy')\n",
    "ts = np.load('./data/time_span.npy')\n",
    "Pb = np.load('./data/Pb.npy')\n",
    "R = np.load('./data/R.npy')\n",
    "\n",
    "obs = np.load('./data/obs_normal.npy')\n",
    "\n",
    "dt = 0.01\n",
    "\n",
    "# generate initial ensemble\n",
    "N_ens = 30\n",
    "rng = np.random.RandomState(42)\n",
    "X_ens_ini = rng.multivariate_normal(X_ini.ravel(), Pb, size=N_ens).T  # (3, N_ens)\n",
    "\n",
    "\n",
    "ekf_params = {\n",
    "    'X_ini': X_ini, \n",
    "    'obs': obs[[0],:],\n",
    "    'obs_interv': obs_intv, \n",
    "    'Pb': Pb,\n",
    "    'M': lambda X: M63(X.ravel(), dt),\n",
    "    'R': np.array([[2]]),\n",
    "    'H_func': lambda arr: arr[[0]],\n",
    "    'H': np.array([[1, 0, 0]]),\n",
    "    'alpha': 0.3,\n",
    "    'inflat': 1.4\n",
    "}\n",
    "ekf = ExtendedKF(lorenz63_fdm, dt)\n",
    "ekf.set_params(**ekf_params)\n",
    "ekf.cycle()"
   ]
  },
  {
   "cell_type": "code",
   "execution_count": 55,
   "metadata": {},
   "outputs": [
    {
     "data": {
      "text/plain": [
       "<matplotlib.legend.Legend at 0x2e22dd05848>"
      ]
     },
     "execution_count": 55,
     "metadata": {},
     "output_type": "execute_result"
    },
    {
     "data": {
      "image/png": "[encoded data removed]",
      "text/plain": [
       "<Figure size 432x288 with 1 Axes>"
      ]
     },
     "metadata": {
      "needs_background": "light"
     },
     "output_type": "display_data"
    }
   ],
   "source": [
    "#ens_mean = enkf.analysis.mean(axis=0)\n",
    "plt.plot(ekf.analysis[0,:300], label='analysis')\n",
    "plt.plot(X_nature[0,:300], label='nature')\n",
    "plt.legend()"
   ]
  },
  {
   "cell_type": "code",
   "execution_count": null,
   "metadata": {},
   "outputs": [],
   "source": []
  }
 ],
 "metadata": {
  "kernelspec": {
   "display_name": "Python 3",
   "language": "python",
   "name": "python3"
  },
  "language_info": {
   "codemirror_mode": {
    "name": "ipython",
    "version": 3
   },
   "file_extension": ".py",
   "mimetype": "text/x-python",
   "name": "python",
   "nbconvert_exporter": "python",
   "pygments_lexer": "ipython3",
   "version": "3.7.4"
  }
 },
 "nbformat": 4,
 "nbformat_minor": 4
}
