{
 "cells": [
  {
   "cell_type": "code",
   "execution_count": 1,
   "metadata": {},
   "outputs": [],
   "source": [
    "%matplotlib inline\n",
    "import numpy as np\n",
    "import matplotlib.pyplot as plt\n",
    "from scipy.stats import skew, lognorm\n",
    "\n",
    "from model import lorenz63_fdm, M63, lorenz96_fdm, M96\n",
    "from assimilation import EnKF, M3DVar, ExtendedKF"
   ]
  },
  {
   "cell_type": "code",
   "execution_count": 24,
   "metadata": {},
   "outputs": [],
   "source": [
    "X_nature = np.load('./L96/data/X_nature.npy')\n",
    "X_ini = np.load('./L96/data/X_ini.npy')\n",
    "obs = np.load('./L96/data/obs_normal.npy')\n",
    "ts = np.load('./L96/data/time_span.npy')\n",
    "Pb = np.load('./L96/data/Pb_assum.npy')\n",
    "R = np.load('./L96/data/R.npy')\n",
    "\n",
    "dt = 0.01\n",
    "\n",
    "# generate initial ensemble\n",
    "N_ens = 30\n",
    "rng = np.random.RandomState(42)\n",
    "X_ens_ini = rng.multivariate_normal(X_ini.ravel(), Pb, size=N_ens).T  # (3, N_ens)\n",
    "\n",
    "def RMSE(forecast, nature):\n",
    "    return np.sqrt(np.mean((forecast-nature)**2, axis=0))"
   ]
  },
  {
   "cell_type": "code",
   "execution_count": 25,
   "metadata": {},
   "outputs": [
    {
     "data": {
      "text/plain": [
       "(40, 200)"
      ]
     },
     "execution_count": 25,
     "metadata": {},
     "output_type": "execute_result"
    }
   ],
   "source": [
    "def gen_lognorm_obs(nature, s, obs_intv):\n",
    "    ndim, size = nature.shape\n",
    "    \n",
    "    obserr = lognorm.rvs(s=s, size=(ndim,size))\n",
    "    tmean = lognorm.mean(s)\n",
    "    obserr_adjust = obserr - tmean\n",
    "    obs = (nature + obserr_adjust)[:,::obs_intv]\n",
    "    return obs\n",
    "\n",
    "gen_lognorm_obs(X_nature, np.sqrt(np.log(2)), 8).shape"
   ]
  },
  {
   "cell_type": "code",
   "execution_count": null,
   "metadata": {},
   "outputs": [],
   "source": []
  },
  {
   "cell_type": "code",
   "execution_count": 26,
   "metadata": {},
   "outputs": [
    {
     "name": "stdout",
     "output_type": "stream",
     "text": [
      "normal: 2.5359512669968196\n",
      "lognorm:\n",
      "0\n",
      "2.420281839892869\n",
      "1\n",
      "2.413148984273553\n",
      "2\n",
      "2.5971396959256525\n",
      "3\n",
      "2.230487456393766\n",
      "4\n",
      "2.4125592601013137\n",
      "5\n",
      "2.1660475073389427\n",
      "6\n",
      "2.3596853238936184\n",
      "7\n",
      "2.367619097466803\n",
      "8\n",
      "2.4352828468404044\n",
      "9\n",
      "2.234067019140366\n"
     ]
    }
   ],
   "source": [
    "obs = np.load('./L96/data/obs_normal.npy')\n",
    "param = {\n",
    "    'X_ini': X_ini,\n",
    "    'obs': obs[::2,:],\n",
    "    'obs_interv': 8,\n",
    "    'Pb': Pb,\n",
    "    'R': 2 * np.eye(20),\n",
    "    'H_func': lambda arr: arr[::2,:]\n",
    "}\n",
    "tdv = M3DVar(lorenz96_fdm, dt)\n",
    "tdv.set_params(**param)\n",
    "tdv.cycle()\n",
    "print('normal:', RMSE(tdv.analysis, X_nature).mean())\n",
    "\n",
    "\n",
    "print('lognorm:')\n",
    "for itime in range(10):\n",
    "    print(itime)\n",
    "\n",
    "    obs = gen_lognorm_obs(X_nature, np.sqrt(np.log(2)), 8)\n",
    "    param = {\n",
    "        'X_ini': X_ini,\n",
    "        'obs': obs[::2,:],\n",
    "        'obs_interv': 8,\n",
    "        'Pb': Pb,\n",
    "        'R': 2 * np.eye(20),\n",
    "        'H_func': lambda arr: arr[::2,:]\n",
    "    }\n",
    "    tdv = M3DVar(lorenz96_fdm, dt)\n",
    "    tdv.set_params(**param)\n",
    "    tdv.cycle()\n",
    "    print(RMSE(tdv.analysis, X_nature).mean())"
   ]
  },
  {
   "cell_type": "code",
   "execution_count": null,
   "metadata": {},
   "outputs": [],
   "source": []
  },
  {
   "cell_type": "code",
   "execution_count": null,
   "metadata": {},
   "outputs": [],
   "source": []
  },
  {
   "cell_type": "code",
   "execution_count": null,
   "metadata": {},
   "outputs": [],
   "source": []
  },
  {
   "cell_type": "code",
   "execution_count": null,
   "metadata": {},
   "outputs": [],
   "source": []
  },
  {
   "cell_type": "code",
   "execution_count": null,
   "metadata": {},
   "outputs": [],
   "source": []
  },
  {
   "cell_type": "code",
   "execution_count": 27,
   "metadata": {},
   "outputs": [
    {
     "name": "stdout",
     "output_type": "stream",
     "text": [
      "normal: 2.319934862958723\n",
      "lognorm\n",
      "0 2.6105918174031264\n",
      "1 2.3508061930609876\n",
      "2 2.6641224090110263\n",
      "3 2.6292354988003566\n",
      "4 2.1832772082298004\n",
      "5 2.568400576017441\n",
      "6 2.1187456814180323\n",
      "7 2.3991196543294926\n",
      "8 2.380552118655066\n",
      "9 2.1855279675016575\n"
     ]
    }
   ],
   "source": [
    "obs = np.load('./L96/data/obs_normal.npy')\n",
    "params = {\n",
    "    'X_ens_ini': X_ens_ini, \n",
    "    'obs': obs[::2,:],\n",
    "    'obs_interv': 8, \n",
    "    'R': 2 * np.eye(20), \n",
    "    'H_func': lambda arr: arr[::2,:], \n",
    "    'alpha': 0.3,\n",
    "    'inflat': 1.4\n",
    "}\n",
    "enkf = EnKF(lorenz96_fdm, dt)\n",
    "enkf.set_params(**params)\n",
    "enkf.cycle()\n",
    "rmse = RMSE(enkf.analysis.mean(axis=0), X_nature)\n",
    "print('normal:', rmse.mean())\n",
    "\n",
    "\n",
    "print('lognorm')\n",
    "for itime in range(10):\n",
    "    obs = gen_lognorm_obs(X_nature, np.sqrt(np.log(2)), 8)\n",
    "    params = {\n",
    "        'X_ens_ini': X_ens_ini, \n",
    "        'obs': obs[::2,:],\n",
    "        'obs_interv': 8, \n",
    "        'R': 2 * np.eye(20), \n",
    "        'H_func': lambda arr: arr[::2,:], \n",
    "        'alpha': 0.3,\n",
    "        'inflat': 1.4\n",
    "    }\n",
    "    enkf = EnKF(lorenz96_fdm, dt)\n",
    "    enkf.set_params(**params)\n",
    "    enkf.cycle()\n",
    "    rmse = RMSE(enkf.analysis.mean(axis=0), X_nature)\n",
    "    print(itime, rmse.mean())"
   ]
  },
  {
   "cell_type": "code",
   "execution_count": null,
   "metadata": {},
   "outputs": [],
   "source": []
  }
 ],
 "metadata": {
  "kernelspec": {
   "display_name": "Python 3",
   "language": "python",
   "name": "python3"
  },
  "language_info": {
   "codemirror_mode": {
    "name": "ipython",
    "version": 3
   },
   "file_extension": ".py",
   "mimetype": "text/x-python",
   "name": "python",
   "nbconvert_exporter": "python",
   "pygments_lexer": "ipython3",
   "version": "3.7.4"
  }
 },
 "nbformat": 4,
 "nbformat_minor": 4
}
