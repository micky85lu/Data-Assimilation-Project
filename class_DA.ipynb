{
 "cells": [
  {
   "cell_type": "code",
   "execution_count": 1,
   "metadata": {},
   "outputs": [],
   "source": [
    "%matplotlib inline\n",
    "import numpy as np\n",
    "import matplotlib.pyplot as plt\n",
    "from mpl_toolkits.mplot3d import Axes3D\n",
    "from assimilation_schemes import OI\n",
    "\n",
    "plt.style.use('seaborn')"
   ]
  },
  {
   "cell_type": "code",
   "execution_count": 23,
   "metadata": {},
   "outputs": [],
   "source": [
    "class DAbase:\n",
    "    def __init__(self, model, store_history=False):\n",
    "        self._model = model\n",
    "        self._store = store_history\n",
    "        self._params = {}\n",
    "        \n",
    "    def set_params(self, **kwargs):\n",
    "        self._params['Pb'] = kwargs.get('Pb')\n",
    "        self._params['R'] = kwargs.get('R')\n",
    "        self._params['alpha'] = kwargs.get('alpha')\n",
    "        self._params['inflat'] = kwargs.get('inflat')\n",
    "        \n",
    "    def _check_params(self):\n",
    "        if not self._params.get('R'):\n",
    "            raise ValueError('Observation error covariance has not been given.')\n",
    "        if not self._params.get('Pb'):\n",
    "            Pb = R\n",
    "            print('Pb has not been given. Automatically set as equal to R')\n",
    "        if not self._params.get('alpha'):\n",
    "            self._params['alpha'] = 0\n",
    "            \n",
    "\n",
    "class ExtendedKF(DAbase):\n",
    "    def __init__(self, model, store_history=False):\n",
    "        super().__init__(model, store_history)\n",
    "        \n",
    "    def set_params(self, **kwargs):\n",
    "        super().set_params(**kwargs)\n",
    "        print(self._params)\n",
    "        \n",
    "    def _check_params(self):\n",
    "        super()._check_params()\n",
    "        if not self._params.get('inflat'):\n",
    "            self._params['inflat'] = 1\n",
    "            \n",
    "    def _assimilation(self):\n",
    "        pass\n",
    "    \n",
    "    def cycle(self):\n",
    "        pass"
   ]
  },
  {
   "cell_type": "code",
   "execution_count": 24,
   "metadata": {},
   "outputs": [
    {
     "name": "stdout",
     "output_type": "stream",
     "text": [
      "{'Pb': None, 'R': 10000, 'alpha': None, 'inflat': None}\n"
     ]
    }
   ],
   "source": [
    "aa = ExtendedKF(None, True)\n",
    "aa.set_params(R = 10000)"
   ]
  },
  {
   "cell_type": "code",
   "execution_count": null,
   "metadata": {},
   "outputs": [],
   "source": []
  }
 ],
 "metadata": {
  "kernelspec": {
   "display_name": "Python 3",
   "language": "python",
   "name": "python3"
  },
  "language_info": {
   "codemirror_mode": {
    "name": "ipython",
    "version": 3
   },
   "file_extension": ".py",
   "mimetype": "text/x-python",
   "name": "python",
   "nbconvert_exporter": "python",
   "pygments_lexer": "ipython3",
   "version": "3.7.4"
  }
 },
 "nbformat": 4,
 "nbformat_minor": 4
}
